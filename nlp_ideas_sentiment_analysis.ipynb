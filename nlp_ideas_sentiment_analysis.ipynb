{
  "cells": [
    {
      "cell_type": "code",
      "execution_count": 1,
      "metadata": {
        "_cell_guid": "b1076dfc-b9ad-4769-8c92-a6c4dae69d19",
        "_uuid": "8f2839f25d086af736a60e9eeb907d3b93b6e0e5",
        "execution": {
          "iopub.execute_input": "2020-10-12T12:26:42.667444Z",
          "iopub.status.busy": "2020-10-12T12:26:42.666465Z",
          "iopub.status.idle": "2020-10-12T12:26:49.462818Z",
          "shell.execute_reply": "2020-10-12T12:26:49.461925Z"
        },
        "papermill": {
          "duration": 6.850687,
          "end_time": "2020-10-12T12:26:49.462948",
          "exception": false,
          "start_time": "2020-10-12T12:26:42.612261",
          "status": "completed"
        },
        "tags": [],
        "id": "muAP3q-BLsrI"
      },
      "outputs": [],
      "source": [
        "import pandas as pd\n",
        "import numpy as np\n",
        "from tqdm import tqdm\n",
        "from keras.preprocessing.text import Tokenizer\n",
        "tqdm.pandas(desc=\"progress-bar\")\n",
        "from gensim.models import Doc2Vec\n",
        "from sklearn import utils\n",
        "from sklearn.model_selection import train_test_split\n",
        "from keras.preprocessing.sequence import pad_sequences\n",
        "import gensim\n",
        "from sklearn.linear_model import LogisticRegression\n",
        "from gensim.models.doc2vec import TaggedDocument\n",
        "import re\n",
        "import seaborn as sns\n",
        "import matplotlib.pyplot as plt"
      ]
    },
    {
      "cell_type": "markdown",
      "metadata": {
        "papermill": {
          "duration": 0.046251,
          "end_time": "2020-10-12T12:26:49.556802",
          "exception": false,
          "start_time": "2020-10-12T12:26:49.510551",
          "status": "completed"
        },
        "tags": [],
        "id": "u9KN9HB_LsrK"
      },
      "source": [
        "Read Dataset"
      ]
    },
    {
      "cell_type": "code",
      "execution_count": 2,
      "metadata": {
        "execution": {
          "iopub.execute_input": "2020-10-12T12:26:49.655670Z",
          "iopub.status.busy": "2020-10-12T12:26:49.654895Z",
          "iopub.status.idle": "2020-10-12T12:26:49.709755Z",
          "shell.execute_reply": "2020-10-12T12:26:49.709002Z"
        },
        "papermill": {
          "duration": 0.106491,
          "end_time": "2020-10-12T12:26:49.709876",
          "exception": false,
          "start_time": "2020-10-12T12:26:49.603385",
          "status": "completed"
        },
        "tags": [],
        "colab": {
          "base_uri": "https://localhost:8080/",
          "height": 206
        },
        "id": "P_hrOhT0LsrK",
        "outputId": "95359d08-43a9-4fa9-f999-05e9f06b9807"
      },
      "outputs": [
        {
          "output_type": "execute_result",
          "data": {
            "text/plain": [
              "   Positive Apple announced plans to achieve carbon neutrality by 2030.\n",
              "0  Positive  New solar panel technology could revolutionize...         \n",
              "1  Negative  Tech giants need to prioritize e-waste reduction.         \n",
              "2  Negative  Google's AI ethics committee faces criticism o...         \n",
              "3  Positive  Tesla's electric vehicles are driving the shif...         \n",
              "4  Negative  Amazon's data centers consume enormous amounts...         "
            ],
            "text/html": [
              "\n",
              "  <div id=\"df-cbf62413-47f7-4b2a-b623-a1e8cd0dcdeb\" class=\"colab-df-container\">\n",
              "    <div>\n",
              "<style scoped>\n",
              "    .dataframe tbody tr th:only-of-type {\n",
              "        vertical-align: middle;\n",
              "    }\n",
              "\n",
              "    .dataframe tbody tr th {\n",
              "        vertical-align: top;\n",
              "    }\n",
              "\n",
              "    .dataframe thead th {\n",
              "        text-align: right;\n",
              "    }\n",
              "</style>\n",
              "<table border=\"1\" class=\"dataframe\">\n",
              "  <thead>\n",
              "    <tr style=\"text-align: right;\">\n",
              "      <th></th>\n",
              "      <th>Positive</th>\n",
              "      <th>Apple announced plans to achieve carbon neutrality by 2030.</th>\n",
              "    </tr>\n",
              "  </thead>\n",
              "  <tbody>\n",
              "    <tr>\n",
              "      <th>0</th>\n",
              "      <td>Positive</td>\n",
              "      <td>New solar panel technology could revolutionize...</td>\n",
              "    </tr>\n",
              "    <tr>\n",
              "      <th>1</th>\n",
              "      <td>Negative</td>\n",
              "      <td>Tech giants need to prioritize e-waste reduction.</td>\n",
              "    </tr>\n",
              "    <tr>\n",
              "      <th>2</th>\n",
              "      <td>Negative</td>\n",
              "      <td>Google's AI ethics committee faces criticism o...</td>\n",
              "    </tr>\n",
              "    <tr>\n",
              "      <th>3</th>\n",
              "      <td>Positive</td>\n",
              "      <td>Tesla's electric vehicles are driving the shif...</td>\n",
              "    </tr>\n",
              "    <tr>\n",
              "      <th>4</th>\n",
              "      <td>Negative</td>\n",
              "      <td>Amazon's data centers consume enormous amounts...</td>\n",
              "    </tr>\n",
              "  </tbody>\n",
              "</table>\n",
              "</div>\n",
              "    <div class=\"colab-df-buttons\">\n",
              "\n",
              "  <div class=\"colab-df-container\">\n",
              "    <button class=\"colab-df-convert\" onclick=\"convertToInteractive('df-cbf62413-47f7-4b2a-b623-a1e8cd0dcdeb')\"\n",
              "            title=\"Convert this dataframe to an interactive table.\"\n",
              "            style=\"display:none;\">\n",
              "\n",
              "  <svg xmlns=\"http://www.w3.org/2000/svg\" height=\"24px\" viewBox=\"0 -960 960 960\">\n",
              "    <path d=\"M120-120v-720h720v720H120Zm60-500h600v-160H180v160Zm220 220h160v-160H400v160Zm0 220h160v-160H400v160ZM180-400h160v-160H180v160Zm440 0h160v-160H620v160ZM180-180h160v-160H180v160Zm440 0h160v-160H620v160Z\"/>\n",
              "  </svg>\n",
              "    </button>\n",
              "\n",
              "  <style>\n",
              "    .colab-df-container {\n",
              "      display:flex;\n",
              "      gap: 12px;\n",
              "    }\n",
              "\n",
              "    .colab-df-convert {\n",
              "      background-color: #E8F0FE;\n",
              "      border: none;\n",
              "      border-radius: 50%;\n",
              "      cursor: pointer;\n",
              "      display: none;\n",
              "      fill: #1967D2;\n",
              "      height: 32px;\n",
              "      padding: 0 0 0 0;\n",
              "      width: 32px;\n",
              "    }\n",
              "\n",
              "    .colab-df-convert:hover {\n",
              "      background-color: #E2EBFA;\n",
              "      box-shadow: 0px 1px 2px rgba(60, 64, 67, 0.3), 0px 1px 3px 1px rgba(60, 64, 67, 0.15);\n",
              "      fill: #174EA6;\n",
              "    }\n",
              "\n",
              "    .colab-df-buttons div {\n",
              "      margin-bottom: 4px;\n",
              "    }\n",
              "\n",
              "    [theme=dark] .colab-df-convert {\n",
              "      background-color: #3B4455;\n",
              "      fill: #D2E3FC;\n",
              "    }\n",
              "\n",
              "    [theme=dark] .colab-df-convert:hover {\n",
              "      background-color: #434B5C;\n",
              "      box-shadow: 0px 1px 3px 1px rgba(0, 0, 0, 0.15);\n",
              "      filter: drop-shadow(0px 1px 2px rgba(0, 0, 0, 0.3));\n",
              "      fill: #FFFFFF;\n",
              "    }\n",
              "  </style>\n",
              "\n",
              "    <script>\n",
              "      const buttonEl =\n",
              "        document.querySelector('#df-cbf62413-47f7-4b2a-b623-a1e8cd0dcdeb button.colab-df-convert');\n",
              "      buttonEl.style.display =\n",
              "        google.colab.kernel.accessAllowed ? 'block' : 'none';\n",
              "\n",
              "      async function convertToInteractive(key) {\n",
              "        const element = document.querySelector('#df-cbf62413-47f7-4b2a-b623-a1e8cd0dcdeb');\n",
              "        const dataTable =\n",
              "          await google.colab.kernel.invokeFunction('convertToInteractive',\n",
              "                                                    [key], {});\n",
              "        if (!dataTable) return;\n",
              "\n",
              "        const docLinkHtml = 'Like what you see? Visit the ' +\n",
              "          '<a target=\"_blank\" href=https://colab.research.google.com/notebooks/data_table.ipynb>data table notebook</a>'\n",
              "          + ' to learn more about interactive tables.';\n",
              "        element.innerHTML = '';\n",
              "        dataTable['output_type'] = 'display_data';\n",
              "        await google.colab.output.renderOutput(dataTable, element);\n",
              "        const docLink = document.createElement('div');\n",
              "        docLink.innerHTML = docLinkHtml;\n",
              "        element.appendChild(docLink);\n",
              "      }\n",
              "    </script>\n",
              "  </div>\n",
              "\n",
              "\n",
              "<div id=\"df-8bcd43a6-72a0-4e62-9fee-3083411ae1d1\">\n",
              "  <button class=\"colab-df-quickchart\" onclick=\"quickchart('df-8bcd43a6-72a0-4e62-9fee-3083411ae1d1')\"\n",
              "            title=\"Suggest charts\"\n",
              "            style=\"display:none;\">\n",
              "\n",
              "<svg xmlns=\"http://www.w3.org/2000/svg\" height=\"24px\"viewBox=\"0 0 24 24\"\n",
              "     width=\"24px\">\n",
              "    <g>\n",
              "        <path d=\"M19 3H5c-1.1 0-2 .9-2 2v14c0 1.1.9 2 2 2h14c1.1 0 2-.9 2-2V5c0-1.1-.9-2-2-2zM9 17H7v-7h2v7zm4 0h-2V7h2v10zm4 0h-2v-4h2v4z\"/>\n",
              "    </g>\n",
              "</svg>\n",
              "  </button>\n",
              "\n",
              "<style>\n",
              "  .colab-df-quickchart {\n",
              "      --bg-color: #E8F0FE;\n",
              "      --fill-color: #1967D2;\n",
              "      --hover-bg-color: #E2EBFA;\n",
              "      --hover-fill-color: #174EA6;\n",
              "      --disabled-fill-color: #AAA;\n",
              "      --disabled-bg-color: #DDD;\n",
              "  }\n",
              "\n",
              "  [theme=dark] .colab-df-quickchart {\n",
              "      --bg-color: #3B4455;\n",
              "      --fill-color: #D2E3FC;\n",
              "      --hover-bg-color: #434B5C;\n",
              "      --hover-fill-color: #FFFFFF;\n",
              "      --disabled-bg-color: #3B4455;\n",
              "      --disabled-fill-color: #666;\n",
              "  }\n",
              "\n",
              "  .colab-df-quickchart {\n",
              "    background-color: var(--bg-color);\n",
              "    border: none;\n",
              "    border-radius: 50%;\n",
              "    cursor: pointer;\n",
              "    display: none;\n",
              "    fill: var(--fill-color);\n",
              "    height: 32px;\n",
              "    padding: 0;\n",
              "    width: 32px;\n",
              "  }\n",
              "\n",
              "  .colab-df-quickchart:hover {\n",
              "    background-color: var(--hover-bg-color);\n",
              "    box-shadow: 0 1px 2px rgba(60, 64, 67, 0.3), 0 1px 3px 1px rgba(60, 64, 67, 0.15);\n",
              "    fill: var(--button-hover-fill-color);\n",
              "  }\n",
              "\n",
              "  .colab-df-quickchart-complete:disabled,\n",
              "  .colab-df-quickchart-complete:disabled:hover {\n",
              "    background-color: var(--disabled-bg-color);\n",
              "    fill: var(--disabled-fill-color);\n",
              "    box-shadow: none;\n",
              "  }\n",
              "\n",
              "  .colab-df-spinner {\n",
              "    border: 2px solid var(--fill-color);\n",
              "    border-color: transparent;\n",
              "    border-bottom-color: var(--fill-color);\n",
              "    animation:\n",
              "      spin 1s steps(1) infinite;\n",
              "  }\n",
              "\n",
              "  @keyframes spin {\n",
              "    0% {\n",
              "      border-color: transparent;\n",
              "      border-bottom-color: var(--fill-color);\n",
              "      border-left-color: var(--fill-color);\n",
              "    }\n",
              "    20% {\n",
              "      border-color: transparent;\n",
              "      border-left-color: var(--fill-color);\n",
              "      border-top-color: var(--fill-color);\n",
              "    }\n",
              "    30% {\n",
              "      border-color: transparent;\n",
              "      border-left-color: var(--fill-color);\n",
              "      border-top-color: var(--fill-color);\n",
              "      border-right-color: var(--fill-color);\n",
              "    }\n",
              "    40% {\n",
              "      border-color: transparent;\n",
              "      border-right-color: var(--fill-color);\n",
              "      border-top-color: var(--fill-color);\n",
              "    }\n",
              "    60% {\n",
              "      border-color: transparent;\n",
              "      border-right-color: var(--fill-color);\n",
              "    }\n",
              "    80% {\n",
              "      border-color: transparent;\n",
              "      border-right-color: var(--fill-color);\n",
              "      border-bottom-color: var(--fill-color);\n",
              "    }\n",
              "    90% {\n",
              "      border-color: transparent;\n",
              "      border-bottom-color: var(--fill-color);\n",
              "    }\n",
              "  }\n",
              "</style>\n",
              "\n",
              "  <script>\n",
              "    async function quickchart(key) {\n",
              "      const quickchartButtonEl =\n",
              "        document.querySelector('#' + key + ' button');\n",
              "      quickchartButtonEl.disabled = true;  // To prevent multiple clicks.\n",
              "      quickchartButtonEl.classList.add('colab-df-spinner');\n",
              "      try {\n",
              "        const charts = await google.colab.kernel.invokeFunction(\n",
              "            'suggestCharts', [key], {});\n",
              "      } catch (error) {\n",
              "        console.error('Error during call to suggestCharts:', error);\n",
              "      }\n",
              "      quickchartButtonEl.classList.remove('colab-df-spinner');\n",
              "      quickchartButtonEl.classList.add('colab-df-quickchart-complete');\n",
              "    }\n",
              "    (() => {\n",
              "      let quickchartButtonEl =\n",
              "        document.querySelector('#df-8bcd43a6-72a0-4e62-9fee-3083411ae1d1 button');\n",
              "      quickchartButtonEl.style.display =\n",
              "        google.colab.kernel.accessAllowed ? 'block' : 'none';\n",
              "    })();\n",
              "  </script>\n",
              "</div>\n",
              "\n",
              "    </div>\n",
              "  </div>\n"
            ],
            "application/vnd.google.colaboratory.intrinsic+json": {
              "type": "dataframe",
              "variable_name": "df",
              "summary": "{\n  \"name\": \"df\",\n  \"rows\": 181,\n  \"fields\": [\n    {\n      \"column\": \"Positive\",\n      \"properties\": {\n        \"dtype\": \"category\",\n        \"num_unique_values\": 3,\n        \"samples\": [\n          \"Positive\",\n          \"Negative\",\n          \"Neutral\"\n        ],\n        \"semantic_type\": \"\",\n        \"description\": \"\"\n      }\n    },\n    {\n      \"column\": \"Apple announced plans to achieve carbon neutrality by 2030.\",\n      \"properties\": {\n        \"dtype\": \"string\",\n        \"num_unique_values\": 176,\n        \"samples\": [\n          \"Data centers are a significant contributor to global energy consumption.\",\n          \"Companies are under pressure to disclose their carbon footprint.\",\n          \"Carbon offsetting schemes are under scrutiny.\"\n        ],\n        \"semantic_type\": \"\",\n        \"description\": \"\"\n      }\n    }\n  ]\n}"
            }
          },
          "metadata": {},
          "execution_count": 2
        }
      ],
      "source": [
        "df = pd.read_csv('all_data.csv',delimiter=',',encoding='latin-1')\n",
        "df.head()\n"
      ]
    },
    {
      "cell_type": "code",
      "source": [
        "df.tail()"
      ],
      "metadata": {
        "colab": {
          "base_uri": "https://localhost:8080/",
          "height": 206
        },
        "id": "y1uJLvlUR5qG",
        "outputId": "c31f4ad6-29e0-464e-c441-4103b5e8baf1"
      },
      "execution_count": 3,
      "outputs": [
        {
          "output_type": "execute_result",
          "data": {
            "text/plain": [
              "    Positive Apple announced plans to achieve carbon neutrality by 2030.\n",
              "176  Neutral  Public-private partnerships drive sustainable ...         \n",
              "177  Neutral  Debates over the ethical use of facial recogni...         \n",
              "178  Neutral  Tech's role in disaster response and recovery ...         \n",
              "179  Neutral  Sustainable fashion initiatives focus on consu...         \n",
              "180  Neutral  Tech companies collaborate on open-source sust...         "
            ],
            "text/html": [
              "\n",
              "  <div id=\"df-bec03b6d-5356-4838-b070-92539784570a\" class=\"colab-df-container\">\n",
              "    <div>\n",
              "<style scoped>\n",
              "    .dataframe tbody tr th:only-of-type {\n",
              "        vertical-align: middle;\n",
              "    }\n",
              "\n",
              "    .dataframe tbody tr th {\n",
              "        vertical-align: top;\n",
              "    }\n",
              "\n",
              "    .dataframe thead th {\n",
              "        text-align: right;\n",
              "    }\n",
              "</style>\n",
              "<table border=\"1\" class=\"dataframe\">\n",
              "  <thead>\n",
              "    <tr style=\"text-align: right;\">\n",
              "      <th></th>\n",
              "      <th>Positive</th>\n",
              "      <th>Apple announced plans to achieve carbon neutrality by 2030.</th>\n",
              "    </tr>\n",
              "  </thead>\n",
              "  <tbody>\n",
              "    <tr>\n",
              "      <th>176</th>\n",
              "      <td>Neutral</td>\n",
              "      <td>Public-private partnerships drive sustainable ...</td>\n",
              "    </tr>\n",
              "    <tr>\n",
              "      <th>177</th>\n",
              "      <td>Neutral</td>\n",
              "      <td>Debates over the ethical use of facial recogni...</td>\n",
              "    </tr>\n",
              "    <tr>\n",
              "      <th>178</th>\n",
              "      <td>Neutral</td>\n",
              "      <td>Tech's role in disaster response and recovery ...</td>\n",
              "    </tr>\n",
              "    <tr>\n",
              "      <th>179</th>\n",
              "      <td>Neutral</td>\n",
              "      <td>Sustainable fashion initiatives focus on consu...</td>\n",
              "    </tr>\n",
              "    <tr>\n",
              "      <th>180</th>\n",
              "      <td>Neutral</td>\n",
              "      <td>Tech companies collaborate on open-source sust...</td>\n",
              "    </tr>\n",
              "  </tbody>\n",
              "</table>\n",
              "</div>\n",
              "    <div class=\"colab-df-buttons\">\n",
              "\n",
              "  <div class=\"colab-df-container\">\n",
              "    <button class=\"colab-df-convert\" onclick=\"convertToInteractive('df-bec03b6d-5356-4838-b070-92539784570a')\"\n",
              "            title=\"Convert this dataframe to an interactive table.\"\n",
              "            style=\"display:none;\">\n",
              "\n",
              "  <svg xmlns=\"http://www.w3.org/2000/svg\" height=\"24px\" viewBox=\"0 -960 960 960\">\n",
              "    <path d=\"M120-120v-720h720v720H120Zm60-500h600v-160H180v160Zm220 220h160v-160H400v160Zm0 220h160v-160H400v160ZM180-400h160v-160H180v160Zm440 0h160v-160H620v160ZM180-180h160v-160H180v160Zm440 0h160v-160H620v160Z\"/>\n",
              "  </svg>\n",
              "    </button>\n",
              "\n",
              "  <style>\n",
              "    .colab-df-container {\n",
              "      display:flex;\n",
              "      gap: 12px;\n",
              "    }\n",
              "\n",
              "    .colab-df-convert {\n",
              "      background-color: #E8F0FE;\n",
              "      border: none;\n",
              "      border-radius: 50%;\n",
              "      cursor: pointer;\n",
              "      display: none;\n",
              "      fill: #1967D2;\n",
              "      height: 32px;\n",
              "      padding: 0 0 0 0;\n",
              "      width: 32px;\n",
              "    }\n",
              "\n",
              "    .colab-df-convert:hover {\n",
              "      background-color: #E2EBFA;\n",
              "      box-shadow: 0px 1px 2px rgba(60, 64, 67, 0.3), 0px 1px 3px 1px rgba(60, 64, 67, 0.15);\n",
              "      fill: #174EA6;\n",
              "    }\n",
              "\n",
              "    .colab-df-buttons div {\n",
              "      margin-bottom: 4px;\n",
              "    }\n",
              "\n",
              "    [theme=dark] .colab-df-convert {\n",
              "      background-color: #3B4455;\n",
              "      fill: #D2E3FC;\n",
              "    }\n",
              "\n",
              "    [theme=dark] .colab-df-convert:hover {\n",
              "      background-color: #434B5C;\n",
              "      box-shadow: 0px 1px 3px 1px rgba(0, 0, 0, 0.15);\n",
              "      filter: drop-shadow(0px 1px 2px rgba(0, 0, 0, 0.3));\n",
              "      fill: #FFFFFF;\n",
              "    }\n",
              "  </style>\n",
              "\n",
              "    <script>\n",
              "      const buttonEl =\n",
              "        document.querySelector('#df-bec03b6d-5356-4838-b070-92539784570a button.colab-df-convert');\n",
              "      buttonEl.style.display =\n",
              "        google.colab.kernel.accessAllowed ? 'block' : 'none';\n",
              "\n",
              "      async function convertToInteractive(key) {\n",
              "        const element = document.querySelector('#df-bec03b6d-5356-4838-b070-92539784570a');\n",
              "        const dataTable =\n",
              "          await google.colab.kernel.invokeFunction('convertToInteractive',\n",
              "                                                    [key], {});\n",
              "        if (!dataTable) return;\n",
              "\n",
              "        const docLinkHtml = 'Like what you see? Visit the ' +\n",
              "          '<a target=\"_blank\" href=https://colab.research.google.com/notebooks/data_table.ipynb>data table notebook</a>'\n",
              "          + ' to learn more about interactive tables.';\n",
              "        element.innerHTML = '';\n",
              "        dataTable['output_type'] = 'display_data';\n",
              "        await google.colab.output.renderOutput(dataTable, element);\n",
              "        const docLink = document.createElement('div');\n",
              "        docLink.innerHTML = docLinkHtml;\n",
              "        element.appendChild(docLink);\n",
              "      }\n",
              "    </script>\n",
              "  </div>\n",
              "\n",
              "\n",
              "<div id=\"df-5680370c-3d94-4e7f-8eb2-bdb6a0efbe72\">\n",
              "  <button class=\"colab-df-quickchart\" onclick=\"quickchart('df-5680370c-3d94-4e7f-8eb2-bdb6a0efbe72')\"\n",
              "            title=\"Suggest charts\"\n",
              "            style=\"display:none;\">\n",
              "\n",
              "<svg xmlns=\"http://www.w3.org/2000/svg\" height=\"24px\"viewBox=\"0 0 24 24\"\n",
              "     width=\"24px\">\n",
              "    <g>\n",
              "        <path d=\"M19 3H5c-1.1 0-2 .9-2 2v14c0 1.1.9 2 2 2h14c1.1 0 2-.9 2-2V5c0-1.1-.9-2-2-2zM9 17H7v-7h2v7zm4 0h-2V7h2v10zm4 0h-2v-4h2v4z\"/>\n",
              "    </g>\n",
              "</svg>\n",
              "  </button>\n",
              "\n",
              "<style>\n",
              "  .colab-df-quickchart {\n",
              "      --bg-color: #E8F0FE;\n",
              "      --fill-color: #1967D2;\n",
              "      --hover-bg-color: #E2EBFA;\n",
              "      --hover-fill-color: #174EA6;\n",
              "      --disabled-fill-color: #AAA;\n",
              "      --disabled-bg-color: #DDD;\n",
              "  }\n",
              "\n",
              "  [theme=dark] .colab-df-quickchart {\n",
              "      --bg-color: #3B4455;\n",
              "      --fill-color: #D2E3FC;\n",
              "      --hover-bg-color: #434B5C;\n",
              "      --hover-fill-color: #FFFFFF;\n",
              "      --disabled-bg-color: #3B4455;\n",
              "      --disabled-fill-color: #666;\n",
              "  }\n",
              "\n",
              "  .colab-df-quickchart {\n",
              "    background-color: var(--bg-color);\n",
              "    border: none;\n",
              "    border-radius: 50%;\n",
              "    cursor: pointer;\n",
              "    display: none;\n",
              "    fill: var(--fill-color);\n",
              "    height: 32px;\n",
              "    padding: 0;\n",
              "    width: 32px;\n",
              "  }\n",
              "\n",
              "  .colab-df-quickchart:hover {\n",
              "    background-color: var(--hover-bg-color);\n",
              "    box-shadow: 0 1px 2px rgba(60, 64, 67, 0.3), 0 1px 3px 1px rgba(60, 64, 67, 0.15);\n",
              "    fill: var(--button-hover-fill-color);\n",
              "  }\n",
              "\n",
              "  .colab-df-quickchart-complete:disabled,\n",
              "  .colab-df-quickchart-complete:disabled:hover {\n",
              "    background-color: var(--disabled-bg-color);\n",
              "    fill: var(--disabled-fill-color);\n",
              "    box-shadow: none;\n",
              "  }\n",
              "\n",
              "  .colab-df-spinner {\n",
              "    border: 2px solid var(--fill-color);\n",
              "    border-color: transparent;\n",
              "    border-bottom-color: var(--fill-color);\n",
              "    animation:\n",
              "      spin 1s steps(1) infinite;\n",
              "  }\n",
              "\n",
              "  @keyframes spin {\n",
              "    0% {\n",
              "      border-color: transparent;\n",
              "      border-bottom-color: var(--fill-color);\n",
              "      border-left-color: var(--fill-color);\n",
              "    }\n",
              "    20% {\n",
              "      border-color: transparent;\n",
              "      border-left-color: var(--fill-color);\n",
              "      border-top-color: var(--fill-color);\n",
              "    }\n",
              "    30% {\n",
              "      border-color: transparent;\n",
              "      border-left-color: var(--fill-color);\n",
              "      border-top-color: var(--fill-color);\n",
              "      border-right-color: var(--fill-color);\n",
              "    }\n",
              "    40% {\n",
              "      border-color: transparent;\n",
              "      border-right-color: var(--fill-color);\n",
              "      border-top-color: var(--fill-color);\n",
              "    }\n",
              "    60% {\n",
              "      border-color: transparent;\n",
              "      border-right-color: var(--fill-color);\n",
              "    }\n",
              "    80% {\n",
              "      border-color: transparent;\n",
              "      border-right-color: var(--fill-color);\n",
              "      border-bottom-color: var(--fill-color);\n",
              "    }\n",
              "    90% {\n",
              "      border-color: transparent;\n",
              "      border-bottom-color: var(--fill-color);\n",
              "    }\n",
              "  }\n",
              "</style>\n",
              "\n",
              "  <script>\n",
              "    async function quickchart(key) {\n",
              "      const quickchartButtonEl =\n",
              "        document.querySelector('#' + key + ' button');\n",
              "      quickchartButtonEl.disabled = true;  // To prevent multiple clicks.\n",
              "      quickchartButtonEl.classList.add('colab-df-spinner');\n",
              "      try {\n",
              "        const charts = await google.colab.kernel.invokeFunction(\n",
              "            'suggestCharts', [key], {});\n",
              "      } catch (error) {\n",
              "        console.error('Error during call to suggestCharts:', error);\n",
              "      }\n",
              "      quickchartButtonEl.classList.remove('colab-df-spinner');\n",
              "      quickchartButtonEl.classList.add('colab-df-quickchart-complete');\n",
              "    }\n",
              "    (() => {\n",
              "      let quickchartButtonEl =\n",
              "        document.querySelector('#df-5680370c-3d94-4e7f-8eb2-bdb6a0efbe72 button');\n",
              "      quickchartButtonEl.style.display =\n",
              "        google.colab.kernel.accessAllowed ? 'block' : 'none';\n",
              "    })();\n",
              "  </script>\n",
              "</div>\n",
              "\n",
              "    </div>\n",
              "  </div>\n"
            ],
            "application/vnd.google.colaboratory.intrinsic+json": {
              "type": "dataframe",
              "summary": "{\n  \"name\": \"df\",\n  \"rows\": 5,\n  \"fields\": [\n    {\n      \"column\": \"Positive\",\n      \"properties\": {\n        \"dtype\": \"category\",\n        \"num_unique_values\": 1,\n        \"samples\": [\n          \"Neutral\"\n        ],\n        \"semantic_type\": \"\",\n        \"description\": \"\"\n      }\n    },\n    {\n      \"column\": \"Apple announced plans to achieve carbon neutrality by 2030.\",\n      \"properties\": {\n        \"dtype\": \"string\",\n        \"num_unique_values\": 5,\n        \"samples\": [\n          \"Debates over the ethical use of facial recognition technology continue.\"\n        ],\n        \"semantic_type\": \"\",\n        \"description\": \"\"\n      }\n    }\n  ]\n}"
            }
          },
          "metadata": {},
          "execution_count": 3
        }
      ]
    },
    {
      "cell_type": "code",
      "execution_count": 4,
      "metadata": {
        "execution": {
          "iopub.execute_input": "2020-10-12T12:26:49.811562Z",
          "iopub.status.busy": "2020-10-12T12:26:49.810579Z",
          "iopub.status.idle": "2020-10-12T12:26:49.813757Z",
          "shell.execute_reply": "2020-10-12T12:26:49.813059Z"
        },
        "papermill": {
          "duration": 0.056875,
          "end_time": "2020-10-12T12:26:49.813890",
          "exception": false,
          "start_time": "2020-10-12T12:26:49.757015",
          "status": "completed"
        },
        "tags": [],
        "id": "695YZh7oLsrN"
      },
      "outputs": [],
      "source": [
        "df = df.rename(columns={'Positive':'sentiment', 'Apple announced plans to achieve carbon neutrality by 2030.':'Message'})"
      ]
    },
    {
      "cell_type": "code",
      "execution_count": 5,
      "metadata": {
        "_cell_guid": "79c7e3d0-c299-4dcb-8224-4455121ee9b0",
        "_uuid": "d629ff2d2480ee46fbb7e2d37f6b5fab8052498a",
        "execution": {
          "iopub.execute_input": "2020-10-12T12:26:49.916465Z",
          "iopub.status.busy": "2020-10-12T12:26:49.915342Z",
          "iopub.status.idle": "2020-10-12T12:26:49.919670Z",
          "shell.execute_reply": "2020-10-12T12:26:49.918929Z"
        },
        "papermill": {
          "duration": 0.057305,
          "end_time": "2020-10-12T12:26:49.919790",
          "exception": false,
          "start_time": "2020-10-12T12:26:49.862485",
          "status": "completed"
        },
        "tags": [],
        "colab": {
          "base_uri": "https://localhost:8080/"
        },
        "id": "AfLafnJfLsrO",
        "outputId": "d896e205-143d-4a24-f3ec-bac460d36d71"
      },
      "outputs": [
        {
          "output_type": "execute_result",
          "data": {
            "text/plain": [
              "(181, 2)"
            ]
          },
          "metadata": {},
          "execution_count": 5
        }
      ],
      "source": [
        "df.shape"
      ]
    },
    {
      "cell_type": "code",
      "execution_count": 6,
      "metadata": {
        "execution": {
          "iopub.execute_input": "2020-10-12T12:26:50.035463Z",
          "iopub.status.busy": "2020-10-12T12:26:50.026822Z",
          "iopub.status.idle": "2020-10-12T12:26:50.039928Z",
          "shell.execute_reply": "2020-10-12T12:26:50.039206Z"
        },
        "papermill": {
          "duration": 0.072332,
          "end_time": "2020-10-12T12:26:50.040050",
          "exception": false,
          "start_time": "2020-10-12T12:26:49.967718",
          "status": "completed"
        },
        "tags": [],
        "colab": {
          "base_uri": "https://localhost:8080/"
        },
        "id": "qLRuTRgMLsrO",
        "outputId": "8900335d-5c6a-4a0d-a903-cfee6922a6df"
      },
      "outputs": [
        {
          "output_type": "execute_result",
          "data": {
            "text/plain": [
              "1405"
            ]
          },
          "metadata": {},
          "execution_count": 6
        }
      ],
      "source": [
        "df.index = range(181)\n",
        "df['Message'].apply(lambda x: len(x.split(' '))).sum()"
      ]
    },
    {
      "cell_type": "markdown",
      "metadata": {
        "papermill": {
          "duration": 0.048672,
          "end_time": "2020-10-12T12:26:50.137220",
          "exception": false,
          "start_time": "2020-10-12T12:26:50.088548",
          "status": "completed"
        },
        "tags": [],
        "id": "5W1zag5zLsrP"
      },
      "source": [
        "VISUALIZING THE DATA"
      ]
    },
    {
      "cell_type": "code",
      "execution_count": 7,
      "metadata": {
        "execution": {
          "iopub.execute_input": "2020-10-12T12:26:50.245448Z",
          "iopub.status.busy": "2020-10-12T12:26:50.242774Z",
          "iopub.status.idle": "2020-10-12T12:26:50.442947Z",
          "shell.execute_reply": "2020-10-12T12:26:50.442238Z"
        },
        "papermill": {
          "duration": 0.257927,
          "end_time": "2020-10-12T12:26:50.443105",
          "exception": false,
          "start_time": "2020-10-12T12:26:50.185178",
          "status": "completed"
        },
        "tags": [],
        "colab": {
          "base_uri": "https://localhost:8080/",
          "height": 440
        },
        "id": "BQxzOeJdLsrP",
        "outputId": "ee88b1df-b649-44f4-fb06-64b8f24c4528"
      },
      "outputs": [
        {
          "output_type": "display_data",
          "data": {
            "text/plain": [
              "<Figure size 1200x400 with 1 Axes>"
            ],
            "image/png": "[encoded data removed]"
          },
          "metadata": {}
        }
      ],
      "source": [
        "cnt_pro = df['sentiment'].value_counts()\n",
        "plt.figure(figsize=(12,4))\n",
        "sns.barplot(cnt_pro, alpha=0.8)\n",
        "plt.ylabel('Number of Occurrences', fontsize=12)\n",
        "plt.xlabel('sentiment', fontsize=12)\n",
        "plt.xticks(rotation=90)\n",
        "plt.show();"
      ]
    },
    {
      "cell_type": "code",
      "execution_count": 8,
      "metadata": {
        "execution": {
          "iopub.execute_input": "2020-10-12T12:26:50.556412Z",
          "iopub.status.busy": "2020-10-12T12:26:50.555556Z",
          "iopub.status.idle": "2020-10-12T12:26:50.559713Z",
          "shell.execute_reply": "2020-10-12T12:26:50.559124Z"
        },
        "papermill": {
          "duration": 0.067554,
          "end_time": "2020-10-12T12:26:50.559841",
          "exception": false,
          "start_time": "2020-10-12T12:26:50.492287",
          "status": "completed"
        },
        "tags": [],
        "colab": {
          "base_uri": "https://localhost:8080/"
        },
        "id": "OQ1Ct4OLLsrQ",
        "outputId": "fc426c65-34c3-412c-c698-b990661a0604"
      },
      "outputs": [
        {
          "output_type": "stream",
          "name": "stdout",
          "text": [
            "     sentiment                                            Message\n",
            "0            0  New solar panel technology could revolutionize...\n",
            "1            2  Tech giants need to prioritize e-waste reduction.\n",
            "2            2  Google's AI ethics committee faces criticism o...\n",
            "3            0  Tesla's electric vehicles are driving the shif...\n",
            "4            2  Amazon's data centers consume enormous amounts...\n",
            "..         ...                                                ...\n",
            "176          1  Public-private partnerships drive sustainable ...\n",
            "177          1  Debates over the ethical use of facial recogni...\n",
            "178          1  Tech's role in disaster response and recovery ...\n",
            "179          1  Sustainable fashion initiatives focus on consu...\n",
            "180          1  Tech companies collaborate on open-source sust...\n",
            "\n",
            "[181 rows x 2 columns]\n"
          ]
        }
      ],
      "source": [
        "#Convert sting to numeric\n",
        "sentiment  = {'Positive': 0,'Neutral': 1,'Negative':2}\n",
        "\n",
        "df.sentiment = [sentiment[item] for item in df.sentiment]\n",
        "print(df)"
      ]
    },
    {
      "cell_type": "code",
      "execution_count": 9,
      "metadata": {
        "execution": {
          "iopub.execute_input": "2020-10-12T12:26:50.666951Z",
          "iopub.status.busy": "2020-10-12T12:26:50.666213Z",
          "iopub.status.idle": "2020-10-12T12:26:50.688240Z",
          "shell.execute_reply": "2020-10-12T12:26:50.687469Z"
        },
        "papermill": {
          "duration": 0.0786,
          "end_time": "2020-10-12T12:26:50.688365",
          "exception": false,
          "start_time": "2020-10-12T12:26:50.609765",
          "status": "completed"
        },
        "tags": [],
        "colab": {
          "base_uri": "https://localhost:8080/"
        },
        "id": "I0UfnOefLsrQ",
        "outputId": "aac91265-fe7a-4296-8738-c731eb00db5e"
      },
      "outputs": [
        {
          "output_type": "stream",
          "name": "stdout",
          "text": [
            "IBM is investing in quantum computing for climate research.\n",
            "Message: 0\n"
          ]
        }
      ],
      "source": [
        "def print_message(index):\n",
        "    example = df[df.index == index][['Message', 'sentiment']].values[0]\n",
        "    if len(example) > 0:\n",
        "        print(example[0])\n",
        "        print('Message:', example[1])\n",
        "print_message(12)"
      ]
    },
    {
      "cell_type": "code",
      "execution_count": 10,
      "metadata": {
        "execution": {
          "iopub.execute_input": "2020-10-12T12:26:50.797821Z",
          "iopub.status.busy": "2020-10-12T12:26:50.796782Z",
          "iopub.status.idle": "2020-10-12T12:26:50.800382Z",
          "shell.execute_reply": "2020-10-12T12:26:50.801184Z"
        },
        "papermill": {
          "duration": 0.062132,
          "end_time": "2020-10-12T12:26:50.801381",
          "exception": false,
          "start_time": "2020-10-12T12:26:50.739249",
          "status": "completed"
        },
        "tags": [],
        "colab": {
          "base_uri": "https://localhost:8080/"
        },
        "id": "v6PRD8kJLsrR",
        "outputId": "df0c72a6-03d2-4fa0-b3b5-28ad9477efe4"
      },
      "outputs": [
        {
          "output_type": "stream",
          "name": "stdout",
          "text": [
            "New solar panel technology could revolutionize renewable energy.\n",
            "Message: 0\n"
          ]
        }
      ],
      "source": [
        "print_message(0)"
      ]
    },
    {
      "cell_type": "markdown",
      "metadata": {
        "papermill": {
          "duration": 0.05082,
          "end_time": "2020-10-12T12:26:50.904555",
          "exception": false,
          "start_time": "2020-10-12T12:26:50.853735",
          "status": "completed"
        },
        "tags": [],
        "id": "WGHRWBSRLsrR"
      },
      "source": [
        "Text Preprocessing Below we define a function to convert text to lower-case and strip punctuation/symbols from words and so on."
      ]
    },
    {
      "cell_type": "code",
      "execution_count": 11,
      "metadata": {
        "execution": {
          "iopub.execute_input": "2020-10-12T12:26:51.014576Z",
          "iopub.status.busy": "2020-10-12T12:26:51.013707Z",
          "iopub.status.idle": "2020-10-12T12:26:52.465841Z",
          "shell.execute_reply": "2020-10-12T12:26:52.465013Z"
        },
        "papermill": {
          "duration": 1.51066,
          "end_time": "2020-10-12T12:26:52.465985",
          "exception": false,
          "start_time": "2020-10-12T12:26:50.955325",
          "status": "completed"
        },
        "tags": [],
        "id": "AsB7G7vZLsrS"
      },
      "outputs": [],
      "source": [
        "from bs4 import BeautifulSoup\n",
        "def cleanText(text):\n",
        "    text = BeautifulSoup(text, \"lxml\").text\n",
        "    text = re.sub(r'\\|\\|\\|', r' ', text)\n",
        "    text = re.sub(r'http\\S+', r'<URL>', text)\n",
        "    text = text.lower()\n",
        "    text = text.replace('x', '')\n",
        "    return text\n",
        "df['Message'] = df['Message'].apply(cleanText)"
      ]
    },
    {
      "cell_type": "code",
      "source": [
        "import nltk\n",
        "nltk.download('punkt')"
      ],
      "metadata": {
        "colab": {
          "base_uri": "https://localhost:8080/"
        },
        "id": "L1Rvy2F9MYnJ",
        "outputId": "bbd8d110-7e15-42f4-cbf3-e4a852ebbc8e"
      },
      "execution_count": 12,
      "outputs": [
        {
          "output_type": "stream",
          "name": "stderr",
          "text": [
            "[nltk_data] Downloading package punkt to /root/nltk_data...\n",
            "[nltk_data]   Unzipping tokenizers/punkt.zip.\n"
          ]
        },
        {
          "output_type": "execute_result",
          "data": {
            "text/plain": [
              "True"
            ]
          },
          "metadata": {},
          "execution_count": 12
        }
      ]
    },
    {
      "cell_type": "code",
      "execution_count": 13,
      "metadata": {
        "execution": {
          "iopub.execute_input": "2020-10-12T12:26:52.590236Z",
          "iopub.status.busy": "2020-10-12T12:26:52.589006Z",
          "iopub.status.idle": "2020-10-12T12:26:56.862817Z",
          "shell.execute_reply": "2020-10-12T12:26:56.861767Z"
        },
        "papermill": {
          "duration": 4.34599,
          "end_time": "2020-10-12T12:26:56.862994",
          "exception": false,
          "start_time": "2020-10-12T12:26:52.517004",
          "status": "completed"
        },
        "tags": [],
        "colab": {
          "base_uri": "https://localhost:8080/"
        },
        "id": "7AmA-XMNLsrS",
        "outputId": "ae0e7c71-fdb1-44b0-9407-ad1a7ab4f9d6"
      },
      "outputs": [
        {
          "output_type": "stream",
          "name": "stdout",
          "text": [
            "Found 181 unique tokens.\n"
          ]
        }
      ],
      "source": [
        "df['Message'] = df['Message'].apply(cleanText)\n",
        "train, test = train_test_split(df, test_size=0.000001 , random_state=42)\n",
        "import nltk\n",
        "from nltk.corpus import stopwords\n",
        "def tokenize_text(text):\n",
        "    tokens = []\n",
        "    for sent in nltk.sent_tokenize(text):\n",
        "        for word in nltk.word_tokenize(sent):\n",
        "            #if len(word) < 0:\n",
        "            if len(word) <= 0:\n",
        "                continue\n",
        "            tokens.append(word.lower())\n",
        "    return tokens\n",
        "train_tagged = train.apply(\n",
        "    lambda r: TaggedDocument(words=tokenize_text(r['Message']), tags=[r.sentiment]), axis=1)\n",
        "test_tagged = test.apply(\n",
        "    lambda r: TaggedDocument(words=tokenize_text(r['Message']), tags=[r.sentiment]), axis=1)\n",
        "\n",
        "# The maximum number of words to be used. (most frequent)\n",
        "max_fatures = 500000\n",
        "\n",
        "# Max number of words in each complaint.\n",
        "MAX_SEQUENCE_LENGTH = 50\n",
        "\n",
        "#tokenizer = Tokenizer(num_words=max_fatures, split=' ')\n",
        "tokenizer = Tokenizer(num_words=max_fatures, split=' ', filters='!\"#$%&()*+,-./:;<=>?@[\\]^_`{|}~', lower=True)\n",
        "tokenizer.fit_on_texts(df['Message'].values)\n",
        "X = tokenizer.texts_to_sequences(df['Message'].values)\n",
        "X = pad_sequences(X)\n",
        "print('Found %s unique tokens.' % len(X))"
      ]
    },
    {
      "cell_type": "code",
      "execution_count": 14,
      "metadata": {
        "execution": {
          "iopub.execute_input": "2020-10-12T12:26:57.004735Z",
          "iopub.status.busy": "2020-10-12T12:26:56.989207Z",
          "iopub.status.idle": "2020-10-12T12:26:57.168898Z",
          "shell.execute_reply": "2020-10-12T12:26:57.168096Z"
        },
        "papermill": {
          "duration": 0.254585,
          "end_time": "2020-10-12T12:26:57.169086",
          "exception": false,
          "start_time": "2020-10-12T12:26:56.914501",
          "status": "completed"
        },
        "tags": [],
        "colab": {
          "base_uri": "https://localhost:8080/"
        },
        "id": "kLBqLta0LsrU",
        "outputId": "2ba25287-54bb-4327-8115-b402d88dfbc3"
      },
      "outputs": [
        {
          "output_type": "stream",
          "name": "stdout",
          "text": [
            "Shape of data tensor: (181, 50)\n"
          ]
        }
      ],
      "source": [
        "X = tokenizer.texts_to_sequences(df['Message'].values)\n",
        "X = pad_sequences(X, maxlen=MAX_SEQUENCE_LENGTH)\n",
        "print('Shape of data tensor:', X.shape)"
      ]
    },
    {
      "cell_type": "code",
      "execution_count": 15,
      "metadata": {
        "execution": {
          "iopub.execute_input": "2020-10-12T12:26:57.279508Z",
          "iopub.status.busy": "2020-10-12T12:26:57.278622Z",
          "iopub.status.idle": "2020-10-12T12:26:57.283858Z",
          "shell.execute_reply": "2020-10-12T12:26:57.283268Z"
        },
        "papermill": {
          "duration": 0.062472,
          "end_time": "2020-10-12T12:26:57.283990",
          "exception": false,
          "start_time": "2020-10-12T12:26:57.221518",
          "status": "completed"
        },
        "tags": [],
        "colab": {
          "base_uri": "https://localhost:8080/"
        },
        "id": "mbrrlxtqLsrV",
        "outputId": "5746ffb7-3e73-4959-947a-18a7a089daac"
      },
      "outputs": [
        {
          "output_type": "execute_result",
          "data": {
            "text/plain": [
              "array([TaggedDocument(words=['google', \"'s\", 'commitment', 'to', 'zero', 'waste', 'initiatives', 'is', 'inspiring', '.'], tags=[0]),\n",
              "       TaggedDocument(words=['ai', \"'s\", 'role', 'in', 'combating', 'climate', 'change', 'is', 'evolving', '.'], tags=[1]),\n",
              "       TaggedDocument(words=['the', 'carbon', 'footprint', 'of', 'cloud', 'gaming', 'platforms', 'is', 'a', 'concern', '.'], tags=[2]),\n",
              "       TaggedDocument(words=['the', 'impact', 'of', '5g', 'on', 'sustainability', 'is', 'debated', '.'], tags=[1]),\n",
              "       TaggedDocument(words=['climate', 'change', 'poses', 'risks', 'to', 'tech', 'infrastructure', '.'], tags=[2]),\n",
              "       TaggedDocument(words=['green', 'computing', 'initiatives', 'are', 'essential', 'for', 'a', 'sustainable', 'future', '.'], tags=[0]),\n",
              "       TaggedDocument(words=['the', 'tech', 'sector', 'must', 'address', 'the', 'environmental', 'impact', 'of', 'hardware', 'production', '.'], tags=[2]),\n",
              "       TaggedDocument(words=['tech', 'companies', 'invest', 'in', 'renewable', 'energy', 'projects', '.'], tags=[0]),\n",
              "       TaggedDocument(words=['eectricity', 'production', 'without', 'causing', 'pollution', '.'], tags=[0]),\n",
              "       TaggedDocument(words=['renewable', 'energy', 'startups', 'attract', 'venture', 'capital', 'investments', '.'], tags=[0]),\n",
              "       TaggedDocument(words=['public', 'perception', 'of', 'green', 'tech', 'is', 'influenced', 'by', 'media', 'coverage', '.'], tags=[1]),\n",
              "       TaggedDocument(words=['ai-driven', 'precision', 'agriculture', 'can', 'improve', 'resource', 'efficiency', '.'], tags=[0]),\n",
              "       TaggedDocument(words=['the', 'debate', 'on', 'ai', 'ethics', 'continues', '.'], tags=[1]),\n",
              "       TaggedDocument(words=['companies', 'are', 'under', 'pressure', 'to', 'disclose', 'their', 'carbon', 'footprint', '.'], tags=[2]),\n",
              "       TaggedDocument(words=['google', 'is', 'committed', 'to', 'reducing', 'its', 'carbon', 'footprint', '.'], tags=[0]),\n",
              "       TaggedDocument(words=['apple', \"'s\", 'supply', 'chain', 'transparency', 'efforts', 'are', 'commendable', '.'], tags=[0]),\n",
              "       TaggedDocument(words=['the', 'role', 'of', 'blockchain', 'in', 'healthcare', 'is', 'still', 'evolving', '.'], tags=[1]),\n",
              "       TaggedDocument(words=['ai-driven', 'traffic', 'management', 'systems', 'reduce', 'emissions', '.'], tags=[0]),\n",
              "       TaggedDocument(words=['tech', 'companies', 'collaborate', 'on', 'open-source', 'sustainability', 'projects', '.'], tags=[0]),\n",
              "       TaggedDocument(words=['tech', 'companies', 'commit', 'to', 'using', 'recycled', 'materials', 'in', 'product', 'packaging', '.'], tags=[0]),\n",
              "       TaggedDocument(words=['renewable', 'energy', 'policies', 'vary', 'across', 'tech', 'hubs', '.'], tags=[1]),\n",
              "       TaggedDocument(words=['carbon', 'offsetting', 'schemes', 'are', 'under', 'scrutiny', '.'], tags=[1]),\n",
              "       TaggedDocument(words=['electric', 'vehicles', 'are', 'becoming', 'more', 'affordable', '.'], tags=[0]),\n",
              "       TaggedDocument(words=['microsoft', 'aims', 'to', 'use', 'ai', 'for', 'sustainable', 'agriculture', '.'], tags=[0]),\n",
              "       TaggedDocument(words=['sustainable', 'building', 'practices', 'are', 'gaining', 'traction', '.'], tags=[1]),\n",
              "       TaggedDocument(words=['blockchain', 'can', 'enhance', 'traceability', 'in', 'food', 'supply', 'chains', '.'], tags=[0]),\n",
              "       TaggedDocument(words=['artificial', 'intelligence', 'can', 'help', 'optimize', 'energy', 'consumption', '.'], tags=[0]),\n",
              "       TaggedDocument(words=['blockchain', \"'s\", 'impact', 'on', 'financial', 'systems', 'is', 'uncertain', '.'], tags=[1]),\n",
              "       TaggedDocument(words=['renewable', 'energy', 'projects', 'face', 'funding', 'challenges', '.'], tags=[1]),\n",
              "       TaggedDocument(words=['google', \"'s\", 'commitment', 'to', 'sustainability', 'influences', 'industry', 'trends', '.'], tags=[0]),\n",
              "       TaggedDocument(words=['the', 'future', 'of', 'transportation', 'lies', 'in', 'electric', 'and', 'autonomous', 'vehicles', '.'], tags=[0]),\n",
              "       TaggedDocument(words=['tech', 'companies', 'eplore', 'alternatives', 'to', 'rare', 'earth', 'metals', '.'], tags=[1]),\n",
              "       TaggedDocument(words=['consumer', 'preferences', 'for', 'eco-friendly', 'products', 'are', 'growing', '.'], tags=[1]),\n",
              "       TaggedDocument(words=['tech', 'giants', 'should', 'prioritize', 'renewable', 'energy', 'investments', '.'], tags=[0]),\n",
              "       TaggedDocument(words=['ai-powered', 'energy', 'management', 'systems', 'can', 'optimize', 'resource', 'usage', '.'], tags=[0]),\n",
              "       TaggedDocument(words=['renewable', 'energy', 'without', 'causing', 'carbon', 'emmission', '.'], tags=[0]),\n",
              "       TaggedDocument(words=['concerns', 'over', 'electronic', 'waste', 'management', 'persist', '.'], tags=[2]),\n",
              "       TaggedDocument(words=['smart', 'grid', 'technology', 'optimizes', 'energy', 'distribution', '.'], tags=[0]),\n",
              "       TaggedDocument(words=['apple', \"'s\", 'commitment', 'to', 'reducing', 'carbon', 'emissions', 'sets', 'a', 'precedent', '.'], tags=[0]),\n",
              "       TaggedDocument(words=['ibm', 'is', 'investing', 'in', 'quantum', 'computing', 'for', 'climate', 'research', '.'], tags=[0]),\n",
              "       TaggedDocument(words=['renewable', 'energy', 'investments', 'are', 'on', 'the', 'rise', '.'], tags=[0]),\n",
              "       TaggedDocument(words=['ai-driven', 'solutions', 'are', 'transforming', 'supply', 'chain', 'management', '.'], tags=[1]),\n",
              "       TaggedDocument(words=['blockchain', 'technology', 'can', 'revolutionize', 'carbon', 'trading', '.'], tags=[0]),\n",
              "       TaggedDocument(words=['tech', 'companies', 'invest', 'in', 'wildlife', 'conservation', 'efforts', '.'], tags=[1]),\n",
              "       TaggedDocument(words=['challenges', 'in', 'sustainable', 'packaging', 'remain', '.'], tags=[1]),\n",
              "       TaggedDocument(words=['tech', 'companies', 'collaborate', 'on', 'open-source', 'sustainability', 'initiatives', '.'], tags=[0]),\n",
              "       TaggedDocument(words=['tech', 'startups', 'are', 'focusing', 'on', 'sustainability', 'from', 'inception', '.'], tags=[0]),\n",
              "       TaggedDocument(words=['ai', \"'s\", 'impact', 'on', 'job', 'displacement', 'is', 'a', 'topic', 'of', 'discussion', '.'], tags=[1]),\n",
              "       TaggedDocument(words=['the', 'tech', 'industry', 'is', 'moving', 'towards', 'zero-waste', 'practices', '.'], tags=[0]),\n",
              "       TaggedDocument(words=['public', 'opinion', 'on', 'tech', 'regulation', 'is', 'divided', '.'], tags=[1]),\n",
              "       TaggedDocument(words=['concerns', 'over', 'tech', \"'s\", 'carbon', 'footprint', 'are', 'widespread', '.'], tags=[1]),\n",
              "       TaggedDocument(words=['google', \"'s\", 'ai', 'ethics', 'committee', 'faces', 'criticism', 'over', 'lack', 'of', 'transparency', '.'], tags=[2]),\n",
              "       TaggedDocument(words=['public-private', 'partnerships', 'drive', 'sustainable', 'infrastructure', 'projects', '.'], tags=[1]),\n",
              "       TaggedDocument(words=['amazon', 'faces', 'criticism', 'over', 'ecessive', 'packaging', '.'], tags=[2]),\n",
              "       TaggedDocument(words=['electric', 'vehicle', 'charging', 'infrastructure', 'needs', 'epansion', '.'], tags=[0]),\n",
              "       TaggedDocument(words=['public-private', 'partnerships', 'drive', 'green', 'tech', 'initiatives', '.'], tags=[1]),\n",
              "       TaggedDocument(words=['blockchain', 'technology', 'improves', 'transparency', 'in', 'carbon', 'credit', 'markets', '.'], tags=[0]),\n",
              "       TaggedDocument(words=['data', 'privacy', 'concerns', 'affect', 'cloud', 'adoption', '.'], tags=[1]),\n",
              "       TaggedDocument(words=['companies', 'need', 'to', 'invest', 'in', 'green', 'data', 'centers', '.'], tags=[0]),\n",
              "       TaggedDocument(words=['the', 'intersection', 'of', 'tech', 'and', 'environmental', 'policy', 'is', 'comple', '.'], tags=[1]),\n",
              "       TaggedDocument(words=['the', 'adoption', 'of', 'electric', 'vehicles', 'is', 'accelerating', '.'], tags=[0]),\n",
              "       TaggedDocument(words=['solar-powered', 'chargers', 'reduce', 'reliance', 'on', 'traditional', 'power', 'sources', '.'], tags=[0]),\n",
              "       TaggedDocument(words=['data', 'centers', 'powered', 'by', 'renewable', 'energy', 'sources', 'are', 'more', 'sustainable', '.'], tags=[0]),\n",
              "       TaggedDocument(words=['cloud', 'computing', 'can', 'reduce', 'hardware', 'waste', '.'], tags=[0]),\n",
              "       TaggedDocument(words=['ethical', 'sourcing', 'of', 'minerals', 'is', 'a', 'priority', 'for', 'tech', 'companies', '.'], tags=[1]),\n",
              "       TaggedDocument(words=['tech', 'companies', 'must', 'address', 'the', 'ethical', 'implications', 'of', 'facial', 'recognition', 'technology', '.'], tags=[2]),\n",
              "       TaggedDocument(words=['solar', 'energy', 'solutions', 'are', 'becoming', 'more', 'accessible', '.'], tags=[0]),\n",
              "       TaggedDocument(words=['tech', 'companies', 'are', 'under', 'scrutiny', 'for', 'labor', 'practices', 'in', 'supply', 'chains', '.'], tags=[2]),\n",
              "       TaggedDocument(words=['environmental', 'concerns', 'shape', 'tech', 'investment', 'strategies', '.'], tags=[1]),\n",
              "       TaggedDocument(words=['concerns', 'rise', 'over', 'the', 'environmental', 'impact', 'of', 'fast', 'fashion', 'e-commerce', '.'], tags=[2]),\n",
              "       TaggedDocument(words=['smart', 'home', 'devices', 'contribute', 'to', 'energy', 'efficiency', '.'], tags=[0]),\n",
              "       TaggedDocument(words=['climate', 'tech', 'startups', 'are', 'attracting', 'investment', '.'], tags=[0]),\n",
              "       TaggedDocument(words=['blockchain', 'technology', 'improves', 'transparency', 'in', 'supply', 'chain', 'management', '.'], tags=[0]),\n",
              "       TaggedDocument(words=['amazon', \"'s\", 'data', 'centers', 'consume', 'enormous', 'amounts', 'of', 'energy', '.'], tags=[2]),\n",
              "       TaggedDocument(words=['the', 'tech', 'industry', 'needs', 'to', 'do', 'more', 'to', 'address', 'diversity', 'and', 'inclusion', '.'], tags=[2]),\n",
              "       TaggedDocument(words=['smart', 'home', 'devices', 'improve', 'energy', 'efficiency', '.'], tags=[0]),\n",
              "       TaggedDocument(words=['advancements', 'in', 'renewable', 'energy', 'technology', 'are', 'promising', '.'], tags=[1]),\n",
              "       TaggedDocument(words=['companies', 'need', 'to', 'prioritize', 'sustainable', 'supply', 'chain', 'management', '.'], tags=[0]),\n",
              "       TaggedDocument(words=['5g', 'technology', 'could', 'support', 'more', 'efficient', 'energy', 'usage', '.'], tags=[0]),\n",
              "       TaggedDocument(words=['data', 'security', 'is', 'a', 'major', 'concern', 'for', 'iot', 'adoption', '.'], tags=[2]),\n",
              "       TaggedDocument(words=['smart', 'city', 'initiatives', 'face', 'infrastructure', 'challenges', '.'], tags=[1]),\n",
              "       TaggedDocument(words=['new', 'solar', 'panel', 'technology', 'could', 'revolutionize', 'renewable', 'energy', '.'], tags=[0]),\n",
              "       TaggedDocument(words=['efforts', 'to', 'reduce', 'electronic', 'waste', 'are', 'gaining', 'momentum', '.'], tags=[1]),\n",
              "       TaggedDocument(words=['companies', 'should', 'integrate', 'sustainability', 'into', 'product', 'design', '.'], tags=[0]),\n",
              "       TaggedDocument(words=['renewable', 'energy', 'adoption', 'varies', 'by', 'region', '.'], tags=[1]),\n",
              "       TaggedDocument(words=['virtual', 'reality', 'can', 'be', 'used', 'for', 'eco-friendly', 'tourism', 'eperiences', '.'], tags=[0]),\n",
              "       TaggedDocument(words=['tech', 'innovations', 'are', 'reshaping', 'the', 'future', 'of', 'agriculture', '.'], tags=[1]),\n",
              "       TaggedDocument(words=['the', 'environmental', 'impact', 'of', 'smartphone', 'production', 'is', 'substantial', '.'], tags=[2]),\n",
              "       TaggedDocument(words=['the', 'environmental', 'impact', 'of', 'streaming', 'services', 'needs', 'evaluation', '.'], tags=[2]),\n",
              "       TaggedDocument(words=['renewable', 'energy', 'incentives', 'vary', 'by', 'country', '.'], tags=[1]),\n",
              "       TaggedDocument(words=['smart', 'grid', 'technology', 'is', 'advancing', 'slowly', '.'], tags=[1]),\n",
              "       TaggedDocument(words=['the', 'impact', 'of', 'iot', 'on', 'sustainability', 'is', 'still', 'being', 'debated', '.'], tags=[1]),\n",
              "       TaggedDocument(words=['sustainable', 'practices', 'are', 'becoming', 'a', 'key', 'differentiator', 'in', 'tech', 'competition', '.'], tags=[0]),\n",
              "       TaggedDocument(words=['smart', 'home', 'technologies', 'require', 'consumer', 'education', '.'], tags=[1]),\n",
              "       TaggedDocument(words=['smartphone', 'manufacturers', 'face', 'challenges', 'in', 'sourcing', 'ethical', 'materials', '.'], tags=[2]),\n",
              "       TaggedDocument(words=['companies', 'invest', 'in', 'green', 'bonds', 'to', 'fund', 'sustainable', 'initiatives', '.'], tags=[0]),\n",
              "       TaggedDocument(words=['tech', 'innovations', 'support', 'wildlife', 'conservation', 'efforts', '.'], tags=[0]),\n",
              "       TaggedDocument(words=['data', 'security', 'and', 'sustainability', 'are', 'top', 'priorities', 'for', 'it', 'leaders', '.'], tags=[0]),\n",
              "       TaggedDocument(words=['renewable', 'energy', 'initiatives', 'create', 'jobs', 'in', 'tech', '.'], tags=[0]),\n",
              "       TaggedDocument(words=['ai-driven', 'predictive', 'maintenance', 'reduces', 'energy', 'consumption', '.'], tags=[0]),\n",
              "       TaggedDocument(words=['the', 'debate', 'over', 'carbon', 'pricing', 'continues', '.'], tags=[1]),\n",
              "       TaggedDocument(words=['challenges', 'in', 'wind', 'energy', 'production', 'persist', '.'], tags=[1]),\n",
              "       TaggedDocument(words=['the', 'evolution', 'of', 'green', 'transportation', 'technology', 'is', 'rapid', '.'], tags=[1]),\n",
              "       TaggedDocument(words=['sustainable', 'fintech', 'solutions', 'are', 'reshaping', 'the', 'banking', 'industry', '.'], tags=[0]),\n",
              "       TaggedDocument(words=['the', 'carbon', 'footprint', 'of', 'cryptocurrency', 'mining', 'is', 'a', 'concern', '.'], tags=[2]),\n",
              "       TaggedDocument(words=['ethical', 'considerations', 'in', 'ai', 'development', 'are', 'comple', '.'], tags=[1]),\n",
              "       TaggedDocument(words=['tech', 'innovations', 'in', 'waste', 'management', 'show', 'promise', '.'], tags=[1]),\n",
              "       TaggedDocument(words=['companies', 'face', 'pressure', 'to', 'disclose', 'environmental', 'impact', 'data', '.'], tags=[2]),\n",
              "       TaggedDocument(words=['renewable', 'energy', 'storage', 'solutions', 'are', 'key', 'to', 'grid', 'stability', '.'], tags=[0]),\n",
              "       TaggedDocument(words=['renewable', 'energy', 'policies', 'can', 'drive', 'innovation', 'in', 'the', 'tech', 'sector', '.'], tags=[0]),\n",
              "       TaggedDocument(words=['ai', 'algorithms', 'can', 'optimize', 'renewable', 'energy', 'distribution', '.'], tags=[0]),\n",
              "       TaggedDocument(words=['the', 'influence', 'of', 'tech', 'on', 'climate', 'policies', 'is', 'significant', '.'], tags=[1]),\n",
              "       TaggedDocument(words=['public', 'awareness', 'of', 'e-waste', 'issues', 'is', 'increasing', '.'], tags=[1]),\n",
              "       TaggedDocument(words=['the', 'ethical', 'use', 'of', 'ai', 'in', 'healthcare', 'is', 'a', 'topic', 'of', 'debate', '.'], tags=[1]),\n",
              "       TaggedDocument(words=['tech', \"'s\", 'role', 'in', 'disaster', 'response', 'and', 'recovery', 'is', 'evolving', '.'], tags=[1]),\n",
              "       TaggedDocument(words=['the', 'impact', 'of', 'iot', 'on', 'sustainability', 'is', 'still', 'being', 'debated', '.'], tags=[1]),\n",
              "       TaggedDocument(words=['renewable', 'energy', 'adoption', 'varies', 'by', 'region', '.'], tags=[1]),\n",
              "       TaggedDocument(words=['companies', 'face', 'pressure', 'to', 'disclose', 'their', 'carbon', 'footprint', '.'], tags=[2]),\n",
              "       TaggedDocument(words=['tech', 'innovations', 'are', 'essential', 'for', 'combating', 'climate', 'change', '.'], tags=[0]),\n",
              "       TaggedDocument(words=['facebook', \"'s\", 'commitment', 'to', 'renewable', 'energy', 'is', 'commendable', '.'], tags=[0]),\n",
              "       TaggedDocument(words=['challenges', 'in', 'renewable', 'energy', 'storage', 'persist', '.'], tags=[1]),\n",
              "       TaggedDocument(words=['tesla', \"'s\", 'electric', 'vehicles', 'are', 'driving', 'the', 'shift', 'towards', 'sustainable', 'transportation', '.'], tags=[0]),\n",
              "       TaggedDocument(words=['debates', 'on', 'data', 'privacy', 'shape', 'ai', 'development', '.'], tags=[1]),\n",
              "       TaggedDocument(words=['ethical', 'considerations', 'in', 'ai', 'development', 'are', 'crucial', '.'], tags=[0]),\n",
              "       TaggedDocument(words=['blockchain', 'technology', 'offers', 'transparency', 'in', 'supply', 'chain', 'management', '.'], tags=[0]),\n",
              "       TaggedDocument(words=['the', 'role', 'of', 'ai', 'in', 'climate', 'modeling', 'is', 'epanding', '.'], tags=[0]),\n",
              "       TaggedDocument(words=['ai', 'can', 'be', 'leveraged', 'to', 'monitor', 'and', 'manage', 'water', 'resources', '.'], tags=[0]),\n",
              "       TaggedDocument(words=['concerns', 'over', 'data', 'privacy', 'continue', 'to', 'affect', 'public', 'trust', 'in', 'tech', 'companies', '.'], tags=[2]),\n",
              "       TaggedDocument(words=['blockchain', 'can', 'enhance', 'transparency', 'in', 'supply', 'chains', '.'], tags=[0]),\n",
              "       TaggedDocument(words=['the', 'ethical', 'implications', 'of', 'facial', 'recognition', 'technology', 'are', 'significant', '.'], tags=[2]),\n",
              "       TaggedDocument(words=['ai', 'algorithms', 'optimize', 'energy', 'efficiency', 'in', 'manufacturing', '.'], tags=[0]),\n",
              "       TaggedDocument(words=['renewable', 'energy', 'certificates', 'help', 'companies', 'meet', 'sustainability', 'goals', '.'], tags=[0]),\n",
              "       TaggedDocument(words=['technological', 'advancements', 'in', 'water', 'purification', 'are', 'promising', '.'], tags=[1]),\n",
              "       TaggedDocument(words=['public', 'trust', 'in', 'ai', 'governance', 'is', 'crucial', '.'], tags=[1]),\n",
              "       TaggedDocument(words=['concerns', 'over', 'data', 'security', 'hinder', 'adoption', 'of', 'iot', 'devices', '.'], tags=[2]),\n",
              "       TaggedDocument(words=['the', 'environmental', 'impact', 'of', 'cryptocurrency', 'mining', 'is', 'concerning', '.'], tags=[2]),\n",
              "       TaggedDocument(words=['renewable', 'energy', 'startups', 'are', 'gaining', 'traction', 'in', 'the', 'tech', 'industry', '.'], tags=[0]),\n",
              "       TaggedDocument(words=['carbon', 'offsetting', 'initiatives', 'are', 'gaining', 'traction', 'in', 'tech', '.'], tags=[0]),\n",
              "       TaggedDocument(words=['green', 'tech', 'startups', 'face', 'funding', 'challenges', '.'], tags=[1]),\n",
              "       TaggedDocument(words=['data', 'privacy', 'laws', 'impact', 'tech', 'companies', 'globally', '.'], tags=[1]),\n",
              "       TaggedDocument(words=['the', 'circular', 'economy', 'is', 'gaining', 'momentum', 'in', 'tech', 'manufacturing', '.'], tags=[0]),\n",
              "       TaggedDocument(words=['sustainable', 'tech', 'solutions', 'are', 'gaining', 'traction', 'in', 'emerging', 'markets', '.'], tags=[0]),\n",
              "       TaggedDocument(words=['the', 'environmental', 'impact', 'of', 'cloud', 'storage', 'is', 'debated', '.'], tags=[1]),\n",
              "       TaggedDocument(words=['energy', 'efficiency', 'standards', 'are', 'under', 'review', '.'], tags=[1]),\n",
              "       TaggedDocument(words=['energy-efficient', 'appliances', 'are', 'gaining', 'popularity', '.'], tags=[1]),\n",
              "       TaggedDocument(words=['electric', 'vehicle', 'infrastructure', 'needs', 'government', 'support', '.'], tags=[1]),\n",
              "       TaggedDocument(words=['smart', 'thermostats', 'contribute', 'to', 'energy', 'efficiency', 'in', 'homes', '.'], tags=[0]),\n",
              "       TaggedDocument(words=['the', 'carbon', 'footprint', 'of', 'cloud', 'computing', 'is', 'a', 'concern', '.'], tags=[2]),\n",
              "       TaggedDocument(words=['the', 'tech', 'industry', 'should', 'focus', 'on', 'reducing', 'electronic', 'waste', '.'], tags=[2]),\n",
              "       TaggedDocument(words=['renewable', 'energy', 'policies', 'vary', 'across', 'tech', 'hubs', '.'], tags=[1]),\n",
              "       TaggedDocument(words=['debates', 'over', 'the', 'ethical', 'use', 'of', 'facial', 'recognition', 'technology', 'continue', '.'], tags=[1]),\n",
              "       TaggedDocument(words=['data', 'privacy', 'regulations', 'impact', 'tech', 'companies', 'globally', '.'], tags=[2]),\n",
              "       TaggedDocument(words=['data', 'centers', 'powered', 'by', 'renewable', 'energy', 'are', 'the', 'future', '.'], tags=[0]),\n",
              "       TaggedDocument(words=['solar-powered', 'gadgets', 'reduce', 'reliance', 'on', 'traditional', 'energy', 'sources', '.'], tags=[0]),\n",
              "       TaggedDocument(words=['e-waste', 'recycling', 'rates', 'need', 'to', 'improve', '.'], tags=[2]),\n",
              "       TaggedDocument(words=['ai', 'can', 'assist', 'in', 'wildlife', 'conservation', 'efforts', '.'], tags=[0]),\n",
              "       TaggedDocument(words=['the', 'future', 'of', 'ai', 'in', 'climate', 'modeling', 'is', 'promising', '.'], tags=[1]),\n",
              "       TaggedDocument(words=['government', 'regulations', 'play', 'a', 'key', 'role', 'in', 'sustainable', 'tech', 'adoption', '.'], tags=[1]),\n",
              "       TaggedDocument(words=['solar-powered', 'gadgets', 'are', 'gaining', 'popularity', '.'], tags=[0]),\n",
              "       TaggedDocument(words=['sustainable', 'agriculture', 'practices', 'vary', 'by', 'region', '.'], tags=[1]),\n",
              "       TaggedDocument(words=['blockchain', \"'s\", 'potential', 'in', 'healthcare', 'data', 'management', 'is', 'eplored', '.'], tags=[1]),\n",
              "       TaggedDocument(words=['tech', 'giants', 'need', 'to', 'prioritize', 'e-waste', 'reduction', '.'], tags=[2]),\n",
              "       TaggedDocument(words=['smart', 'cities', 'leverage', 'technology', 'for', 'sustainable', 'urban', 'development', '.'], tags=[0]),\n",
              "       TaggedDocument(words=['the', 'role', 'of', 'tech', 'in', 'wildlife', 'conservation', 'is', 'epanding', '.'], tags=[1]),\n",
              "       TaggedDocument(words=['public', 'opinion', 'on', 'green', 'tech', 'is', 'divided', '.'], tags=[1]),\n",
              "       TaggedDocument(words=['corporate', 'sustainability', 'initiatives', 'face', 'skepticism', '.'], tags=[1]),\n",
              "       TaggedDocument(words=['concerns', 'over', 'e-waste', 'recycling', 'persist', '.'], tags=[2]),\n",
              "       TaggedDocument(words=['data', 'centers', 'should', 'invest', 'in', 'renewable', 'energy', 'sources', '.'], tags=[0]),\n",
              "       TaggedDocument(words=['ai', 'can', 'optimize', 'energy', 'consumption', 'in', 'smart', 'cities', '.'], tags=[0]),\n",
              "       TaggedDocument(words=['the', 'tech', 'industry', 'must', 'address', 'the', 'environmental', 'impact', 'of', 'data', 'centers', '.'], tags=[2]),\n",
              "       TaggedDocument(words=['green', 'it', 'practices', 'are', 'essential', 'for', 'reducing', 'carbon', 'emissions', '.'], tags=[0]),\n",
              "       TaggedDocument(words=['the', 'ethical', 'use', 'of', 'ai', 'in', 'healthcare', 'is', 'a', 'topic', 'of', 'debate', '.'], tags=[1]),\n",
              "       TaggedDocument(words=['tech', 'companies', 'collaborate', 'on', 'open-source', 'sustainability', 'projects', '.'], tags=[1]),\n",
              "       TaggedDocument(words=['facebook', \"'s\", 'renewable', 'energy', 'initiatives', 'are', 'a', 'step', 'in', 'the', 'right', 'direction', '.'], tags=[0]),\n",
              "       TaggedDocument(words=['consumer', 'electronics', 'companies', 'are', 'urged', 'to', 'reduce', 'plastic', 'packaging', '.'], tags=[2]),\n",
              "       TaggedDocument(words=['ai', 'enhances', 'precision', 'farming', 'techniques', '.'], tags=[0]),\n",
              "       TaggedDocument(words=['apple', 'faces', 'accusations', 'of', 'planned', 'obsolescence', '.'], tags=[2]),\n",
              "       TaggedDocument(words=['blockchain', 'enhances', 'transparency', 'in', 'renewable', 'energy', 'transactions', '.'], tags=[0]),\n",
              "       TaggedDocument(words=['sustainable', 'fashion', 'initiatives', 'focus', 'on', 'consumer', 'education', '.'], tags=[1]),\n",
              "       TaggedDocument(words=['ai-powered', 'drones', 'aid', 'in', 'environmental', 'monitoring', '.'], tags=[0])],\n",
              "      dtype=object)"
            ]
          },
          "metadata": {},
          "execution_count": 15
        }
      ],
      "source": [
        "#train_tagged.values[2173]\n",
        "train_tagged.values"
      ]
    },
    {
      "cell_type": "markdown",
      "metadata": {
        "papermill": {
          "duration": 0.052552,
          "end_time": "2020-10-12T12:26:57.388708",
          "exception": false,
          "start_time": "2020-10-12T12:26:57.336156",
          "status": "completed"
        },
        "tags": [],
        "id": "_nXvHjt9LsrV"
      },
      "source": [
        "Model DM = 1\n",
        "\n",
        "This work use DM=1 (it preserve word order)"
      ]
    },
    {
      "cell_type": "code",
      "execution_count": 16,
      "metadata": {
        "execution": {
          "iopub.execute_input": "2020-10-12T12:26:57.500829Z",
          "iopub.status.busy": "2020-10-12T12:26:57.499982Z",
          "iopub.status.idle": "2020-10-12T12:27:02.496799Z",
          "shell.execute_reply": "2020-10-12T12:27:02.496132Z"
        },
        "papermill": {
          "duration": 5.055169,
          "end_time": "2020-10-12T12:27:02.496925",
          "exception": false,
          "start_time": "2020-10-12T12:26:57.441756",
          "status": "completed"
        },
        "tags": [],
        "colab": {
          "base_uri": "https://localhost:8080/"
        },
        "id": "MhhqPXutLsrW",
        "outputId": "9f74a1a1-6807-4dfb-a735-cbd9cd2a0894"
      },
      "outputs": [
        {
          "output_type": "stream",
          "name": "stderr",
          "text": [
            "100%|██████████| 180/180 [00:00<00:00, 652527.85it/s]\n"
          ]
        }
      ],
      "source": [
        "# d2v_model = Doc2Vec(dm=1, dm_mean=1, size=20, window=8, min_count=1, workers=1, alpha=0.065, min_alpha=0.065)\n",
        "d2v_model = Doc2Vec(dm=1, dm_mean=1, vector_size=20, window=8, min_count=1, workers=1, alpha=0.065, min_alpha=0.065)\n",
        "d2v_model.build_vocab([x for x in tqdm(train_tagged.values)])\n"
      ]
    },
    {
      "cell_type": "code",
      "execution_count": 17,
      "metadata": {
        "execution": {
          "iopub.execute_input": "2020-10-12T12:27:02.612438Z",
          "iopub.status.busy": "2020-10-12T12:27:02.611409Z",
          "iopub.status.idle": "2020-10-12T12:27:16.819216Z",
          "shell.execute_reply": "2020-10-12T12:27:16.818556Z"
        },
        "papermill": {
          "duration": 14.268056,
          "end_time": "2020-10-12T12:27:16.819361",
          "exception": false,
          "start_time": "2020-10-12T12:27:02.551305",
          "status": "completed"
        },
        "tags": [],
        "colab": {
          "base_uri": "https://localhost:8080/"
        },
        "id": "H2LT7s5PLsrW",
        "outputId": "3f10f4d1-c021-40c2-839c-56d1710094b1"
      },
      "outputs": [
        {
          "output_type": "stream",
          "name": "stderr",
          "text": [
            "100%|██████████| 180/180 [00:00<00:00, 213631.78it/s]\n",
            "100%|██████████| 180/180 [00:00<00:00, 443060.28it/s]\n",
            "100%|██████████| 180/180 [00:00<00:00, 772747.92it/s]\n",
            "100%|██████████| 180/180 [00:00<00:00, 585251.72it/s]\n",
            "100%|██████████| 180/180 [00:00<00:00, 693273.39it/s]\n",
            "100%|██████████| 180/180 [00:00<00:00, 836073.89it/s]\n",
            "100%|██████████| 180/180 [00:00<00:00, 817957.44it/s]\n",
            "100%|██████████| 180/180 [00:00<00:00, 322638.77it/s]\n",
            "100%|██████████| 180/180 [00:00<00:00, 699050.67it/s]\n",
            "100%|██████████| 180/180 [00:00<00:00, 748982.86it/s]\n",
            "100%|██████████| 180/180 [00:00<00:00, 699698.54it/s]\n",
            "100%|██████████| 180/180 [00:00<00:00, 867787.03it/s]\n",
            "100%|██████████| 180/180 [00:00<00:00, 796386.84it/s]\n",
            "100%|██████████| 180/180 [00:00<00:00, 803164.60it/s]\n",
            "100%|██████████| 180/180 [00:00<00:00, 765694.44it/s]\n",
            "100%|██████████| 180/180 [00:00<00:00, 761063.23it/s]\n",
            "100%|██████████| 180/180 [00:00<00:00, 736560.70it/s]\n",
            "100%|██████████| 180/180 [00:00<00:00, 792208.52it/s]\n",
            "100%|██████████| 180/180 [00:00<00:00, 699698.54it/s]\n",
            "100%|██████████| 180/180 [00:00<00:00, 583442.60it/s]\n",
            "100%|██████████| 180/180 [00:00<00:00, 136129.59it/s]\n",
            "100%|██████████| 180/180 [00:00<00:00, 798915.05it/s]\n",
            "100%|██████████| 180/180 [00:00<00:00, 830555.25it/s]\n",
            "100%|██████████| 180/180 [00:00<00:00, 805736.09it/s]\n",
            "100%|██████████| 180/180 [00:00<00:00, 483029.25it/s]\n",
            "100%|██████████| 180/180 [00:00<00:00, 804877.10it/s]\n",
            "100%|██████████| 180/180 [00:00<00:00, 879923.92it/s]\n",
            "100%|██████████| 180/180 [00:00<00:00, 811800.77it/s]\n",
            "100%|██████████| 180/180 [00:00<00:00, 833305.43it/s]\n",
            "100%|██████████| 180/180 [00:00<00:00, 861843.29it/s]\n"
          ]
        },
        {
          "output_type": "stream",
          "name": "stdout",
          "text": [
            "CPU times: user 615 ms, sys: 37.6 ms, total: 652 ms\n",
            "Wall time: 828 ms\n"
          ]
        }
      ],
      "source": [
        "%%time\n",
        "for epoch in range(30):\n",
        "    d2v_model.train(utils.shuffle([x for x in tqdm(train_tagged.values)]), total_examples=len(train_tagged.values), epochs=1)\n",
        "    d2v_model.alpha -= 0.002\n",
        "    d2v_model.min_alpha = d2v_model.alpha"
      ]
    },
    {
      "cell_type": "code",
      "execution_count": 18,
      "metadata": {
        "execution": {
          "iopub.execute_input": "2020-10-12T12:27:17.010712Z",
          "iopub.status.busy": "2020-10-12T12:27:17.009541Z",
          "iopub.status.idle": "2020-10-12T12:27:17.013494Z",
          "shell.execute_reply": "2020-10-12T12:27:17.014661Z"
        },
        "papermill": {
          "duration": 0.102522,
          "end_time": "2020-10-12T12:27:17.014909",
          "exception": false,
          "start_time": "2020-10-12T12:27:16.912387",
          "status": "completed"
        },
        "tags": [],
        "colab": {
          "base_uri": "https://localhost:8080/"
        },
        "id": "5V8tj2l2LsrW",
        "outputId": "faa4e75a-ecb9-43bc-a21f-afa7d2a8b27d"
      },
      "outputs": [
        {
          "output_type": "stream",
          "name": "stdout",
          "text": [
            "Doc2Vec<dm/m,d20,n5,w8,s0.001>\n"
          ]
        }
      ],
      "source": [
        "print(d2v_model)"
      ]
    },
    {
      "cell_type": "code",
      "execution_count": 19,
      "metadata": {
        "execution": {
          "iopub.execute_input": "2020-10-12T12:27:17.201967Z",
          "iopub.status.busy": "2020-10-12T12:27:17.200766Z",
          "iopub.status.idle": "2020-10-12T12:27:17.205291Z",
          "shell.execute_reply": "2020-10-12T12:27:17.204596Z"
        },
        "papermill": {
          "duration": 0.099901,
          "end_time": "2020-10-12T12:27:17.205421",
          "exception": false,
          "start_time": "2020-10-12T12:27:17.105520",
          "status": "completed"
        },
        "tags": [],
        "colab": {
          "base_uri": "https://localhost:8080/"
        },
        "id": "gRVPkn4iLsrW",
        "outputId": "47d854f3-090e-4315-b5cd-7c1dee92f254",
        "collapsed": true
      },
      "outputs": [
        {
          "output_type": "execute_result",
          "data": {
            "text/plain": [
              "['.',\n",
              " 'in',\n",
              " 'tech',\n",
              " 'the',\n",
              " 'energy',\n",
              " 'are',\n",
              " 'of',\n",
              " 'is',\n",
              " 'renewable',\n",
              " 'to',\n",
              " 'companies',\n",
              " 'ai',\n",
              " 'on',\n",
              " 'data',\n",
              " 'sustainable',\n",
              " \"'s\",\n",
              " 'impact',\n",
              " 'carbon',\n",
              " 'technology',\n",
              " 'can',\n",
              " 'a',\n",
              " 'sustainability',\n",
              " 'for',\n",
              " 'environmental',\n",
              " 'initiatives',\n",
              " 'blockchain',\n",
              " 'over',\n",
              " 'green',\n",
              " 'management',\n",
              " 'ethical',\n",
              " 'smart',\n",
              " 'supply',\n",
              " 'climate',\n",
              " 'gaining',\n",
              " 'concerns',\n",
              " 'by',\n",
              " 'footprint',\n",
              " 'industry',\n",
              " 'challenges',\n",
              " 'adoption',\n",
              " 'face',\n",
              " 'transparency',\n",
              " 'role',\n",
              " 'efficiency',\n",
              " 'reduce',\n",
              " 'public',\n",
              " 'electric',\n",
              " 'waste',\n",
              " 'practices',\n",
              " 'and',\n",
              " 'centers',\n",
              " 'infrastructure',\n",
              " 'startups',\n",
              " 'optimize',\n",
              " 'invest',\n",
              " 'solutions',\n",
              " 'chain',\n",
              " 'privacy',\n",
              " 'cloud',\n",
              " 'more',\n",
              " 'efforts',\n",
              " 'future',\n",
              " 'projects',\n",
              " 'development',\n",
              " 'use',\n",
              " 'persist',\n",
              " 'packaging',\n",
              " 'policies',\n",
              " 'vary',\n",
              " 'innovations',\n",
              " 'vehicles',\n",
              " 'should',\n",
              " 'traction',\n",
              " 'consumer',\n",
              " 'healthcare',\n",
              " 'google',\n",
              " 'wildlife',\n",
              " 'debate',\n",
              " 'commitment',\n",
              " 'sources',\n",
              " 'concern',\n",
              " 'debated',\n",
              " 'computing',\n",
              " 'need',\n",
              " 'address',\n",
              " 'production',\n",
              " 'ai-driven',\n",
              " 'e-waste',\n",
              " 'agriculture',\n",
              " 'needs',\n",
              " 'iot',\n",
              " 'conservation',\n",
              " 'reducing',\n",
              " 'under',\n",
              " 'faces',\n",
              " 'facial',\n",
              " 'transportation',\n",
              " 'recognition',\n",
              " 'topic',\n",
              " 'solar-powered',\n",
              " 'region',\n",
              " 'grid',\n",
              " 'drive',\n",
              " 'security',\n",
              " 'home',\n",
              " 'devices',\n",
              " 'prioritize',\n",
              " 'support',\n",
              " 'promising',\n",
              " 'electronic',\n",
              " 'key',\n",
              " 'collaborate',\n",
              " 'pressure',\n",
              " 'must',\n",
              " 'improve',\n",
              " 'consumption',\n",
              " 'disclose',\n",
              " 'apple',\n",
              " 'investments',\n",
              " 'still',\n",
              " 'systems',\n",
              " 'storage',\n",
              " 'open-source',\n",
              " 'emissions',\n",
              " 'evolving',\n",
              " 'chains',\n",
              " 'change',\n",
              " 'becoming',\n",
              " 'essential',\n",
              " 'markets',\n",
              " 'combating',\n",
              " 'amazon',\n",
              " 'vehicle',\n",
              " 'precision',\n",
              " 'traditional',\n",
              " 'improves',\n",
              " 'sector',\n",
              " 'causing',\n",
              " 'without',\n",
              " 'reliance',\n",
              " '5g',\n",
              " 'public-private',\n",
              " 'comple',\n",
              " 'hardware',\n",
              " 'affect',\n",
              " 'partnerships',\n",
              " 'funding',\n",
              " 'resource',\n",
              " 'ethics',\n",
              " 'help',\n",
              " 'enhance',\n",
              " 'eco-friendly',\n",
              " 'giants',\n",
              " 'scrutiny',\n",
              " 'ai-powered',\n",
              " 'usage',\n",
              " 'offsetting',\n",
              " 'hubs',\n",
              " 'across',\n",
              " 'product',\n",
              " 'materials',\n",
              " 'distribution',\n",
              " 'rise',\n",
              " 'revolutionize',\n",
              " 'commendable',\n",
              " 'their',\n",
              " 'towards',\n",
              " 'opinion',\n",
              " 'continues',\n",
              " 'divided',\n",
              " 'powered',\n",
              " 'criticism',\n",
              " 'sourcing',\n",
              " 'cities',\n",
              " 'education',\n",
              " 'could',\n",
              " 'smartphone',\n",
              " 'facebook',\n",
              " 'recycling',\n",
              " 'gadgets',\n",
              " 'regulations',\n",
              " 'focus',\n",
              " 'being',\n",
              " 'government',\n",
              " 'popularity',\n",
              " 'debates',\n",
              " 'crucial',\n",
              " 'momentum',\n",
              " 'modeling',\n",
              " 'epanding',\n",
              " 'globally',\n",
              " 'water',\n",
              " 'continue',\n",
              " 'varies',\n",
              " 'trust',\n",
              " 'be',\n",
              " 'manufacturing',\n",
              " 'advancements',\n",
              " 'reshaping',\n",
              " 'shape',\n",
              " 'implications',\n",
              " 'considerations',\n",
              " 'investment',\n",
              " 'enhances',\n",
              " 'fashion',\n",
              " 'contribute',\n",
              " 'cryptocurrency',\n",
              " 'it',\n",
              " 'solar',\n",
              " 'mining',\n",
              " 'algorithms',\n",
              " 'significant',\n",
              " 'influenced',\n",
              " 'leveraged',\n",
              " 'coverage',\n",
              " 'banking',\n",
              " 'perception',\n",
              " 'resources',\n",
              " 'recycled',\n",
              " 'fintech',\n",
              " 'manage',\n",
              " 'certificates',\n",
              " 'using',\n",
              " 'monitor',\n",
              " 'capital',\n",
              " 'media',\n",
              " 'issues',\n",
              " 'commit',\n",
              " 'offers',\n",
              " 'increasing',\n",
              " 'disaster',\n",
              " 'response',\n",
              " 'influence',\n",
              " 'recovery',\n",
              " 'traffic',\n",
              " 'innovation',\n",
              " 'committed',\n",
              " 'tesla',\n",
              " 'driving',\n",
              " 'stability',\n",
              " 'promise',\n",
              " 'shift',\n",
              " 'show',\n",
              " 'awareness',\n",
              " 'its',\n",
              " 'purification',\n",
              " 'venture',\n",
              " 'electronics',\n",
              " 'reduction',\n",
              " 'platforms',\n",
              " 'gaming',\n",
              " 'leverage',\n",
              " 'urban',\n",
              " 'corporate',\n",
              " 'skepticism',\n",
              " 'step',\n",
              " 'right',\n",
              " 'direction',\n",
              " 'urged',\n",
              " 'potential',\n",
              " 'plastic',\n",
              " 'farming',\n",
              " 'inspiring',\n",
              " 'techniques',\n",
              " 'accusations',\n",
              " 'planned',\n",
              " 'zero',\n",
              " 'obsolescence',\n",
              " 'transactions',\n",
              " 'drones',\n",
              " 'eplored',\n",
              " 'play',\n",
              " 'attract',\n",
              " 'circular',\n",
              " 'meet',\n",
              " 'pollution',\n",
              " 'goals',\n",
              " 'technological',\n",
              " 'eectricity',\n",
              " 'evolution',\n",
              " 'governance',\n",
              " 'hinder',\n",
              " 'concerning',\n",
              " 'laws',\n",
              " 'economy',\n",
              " 'assist',\n",
              " 'emerging',\n",
              " 'standards',\n",
              " 'review',\n",
              " 'energy-efficient',\n",
              " 'appliances',\n",
              " 'thermostats',\n",
              " 'homes',\n",
              " 'risks',\n",
              " 'poses',\n",
              " 'rates',\n",
              " 'rapid',\n",
              " 'create',\n",
              " 'wind',\n",
              " 'remain',\n",
              " 'efficient',\n",
              " 'zero-waste',\n",
              " 'major',\n",
              " 'moving',\n",
              " 'discussion',\n",
              " 'city',\n",
              " 'displacement',\n",
              " 'job',\n",
              " 'inception',\n",
              " 'from',\n",
              " 'focusing',\n",
              " 'new',\n",
              " 'pricing',\n",
              " 'panel',\n",
              " 'trading',\n",
              " 'transforming',\n",
              " 'integrate',\n",
              " 'into',\n",
              " 'research',\n",
              " 'quantum',\n",
              " 'investing',\n",
              " 'ibm',\n",
              " 'precedent',\n",
              " 'sets',\n",
              " 'regulation',\n",
              " 'widespread',\n",
              " 'committee',\n",
              " 'aid',\n",
              " 'priority',\n",
              " 'power',\n",
              " 'chargers',\n",
              " 'accessible',\n",
              " 'accelerating',\n",
              " 'labor',\n",
              " 'policy',\n",
              " 'intersection',\n",
              " 'strategies',\n",
              " 'fast',\n",
              " 'e-commerce',\n",
              " 'credit',\n",
              " 'attracting',\n",
              " 'epansion',\n",
              " 'consume',\n",
              " 'charging',\n",
              " 'enormous',\n",
              " 'ecessive',\n",
              " 'amounts',\n",
              " 'do',\n",
              " 'diversity',\n",
              " 'inclusion',\n",
              " 'lack',\n",
              " 'design',\n",
              " 'optimizes',\n",
              " 'virtual',\n",
              " 'competition',\n",
              " 'financial',\n",
              " 'technologies',\n",
              " 'require',\n",
              " 'intelligence',\n",
              " 'artificial',\n",
              " 'manufacturers',\n",
              " 'food',\n",
              " 'traceability',\n",
              " 'bonds',\n",
              " 'fund',\n",
              " 'top',\n",
              " 'priorities',\n",
              " 'building',\n",
              " 'aims',\n",
              " 'microsoft',\n",
              " 'affordable',\n",
              " 'leaders',\n",
              " 'minerals',\n",
              " 'jobs',\n",
              " 'predictive',\n",
              " 'maintenance',\n",
              " 'schemes',\n",
              " 'reduces',\n",
              " 'uncertain',\n",
              " 'differentiator',\n",
              " 'reality',\n",
              " 'influences',\n",
              " 'used',\n",
              " 'tourism',\n",
              " 'eperiences',\n",
              " 'emmission',\n",
              " 'substantial',\n",
              " 'streaming',\n",
              " 'services',\n",
              " 'growing',\n",
              " 'products',\n",
              " 'evaluation',\n",
              " 'preferences',\n",
              " 'incentives',\n",
              " 'metals',\n",
              " 'earth',\n",
              " 'rare',\n",
              " 'alternatives',\n",
              " 'eplore',\n",
              " 'autonomous',\n",
              " 'country',\n",
              " 'lies',\n",
              " 'advancing',\n",
              " 'trends',\n",
              " 'slowly',\n",
              " 'monitoring']"
            ]
          },
          "metadata": {},
          "execution_count": 19
        }
      ],
      "source": [
        "d2v_model.wv.index_to_key"
      ]
    },
    {
      "cell_type": "code",
      "source": [
        "d2v_model.dv.vectors"
      ],
      "metadata": {
        "colab": {
          "base_uri": "https://localhost:8080/"
        },
        "id": "ufRq00mnNq7_",
        "outputId": "3bdf8d3d-00ce-4b59-e3ee-f9192eddd330"
      },
      "execution_count": 20,
      "outputs": [
        {
          "output_type": "execute_result",
          "data": {
            "text/plain": [
              "array([[-2.6512418 , -2.727615  , -1.7408246 ,  4.5851345 ,  0.2782448 ,\n",
              "        -0.44055864, -6.0780153 , -0.89151525, -5.489114  ,  1.5215937 ,\n",
              "         0.4477373 ,  1.4796101 ,  0.38598093,  0.32335195, -0.94549066,\n",
              "        -6.717244  ,  1.0260522 ,  4.867299  , -4.499227  , -4.162951  ],\n",
              "       [-2.2649493 ,  0.46333018, -3.6143796 ,  4.650686  ,  5.427221  ,\n",
              "        -2.771485  , -2.147992  , -3.027275  , -0.6554688 , -4.35361   ,\n",
              "         4.597008  ,  2.677166  , -3.3273218 , -2.8552802 , -0.30698785,\n",
              "         1.795212  ,  2.7042572 , -4.0318623 , -2.193751  ,  2.0892408 ],\n",
              "       [-2.5446095 , -6.029582  ,  2.2255228 , -1.5291418 ,  0.48612046,\n",
              "        -2.8429675 , -0.8229828 , -0.68818945, -3.322086  , -1.966732  ,\n",
              "         3.6353512 ,  0.527922  , -4.809867  , -5.983405  , -1.3346839 ,\n",
              "         5.8058667 ,  1.4945606 ,  4.412099  , -6.5590405 ,  0.98942935]],\n",
              "      dtype=float32)"
            ]
          },
          "metadata": {},
          "execution_count": 20
        }
      ]
    },
    {
      "cell_type": "code",
      "execution_count": 21,
      "metadata": {
        "execution": {
          "iopub.execute_input": "2020-10-12T12:27:17.394356Z",
          "iopub.status.busy": "2020-10-12T12:27:17.393493Z",
          "iopub.status.idle": "2020-10-12T12:27:17.397508Z",
          "shell.execute_reply": "2020-10-12T12:27:17.396883Z"
        },
        "papermill": {
          "duration": 0.101069,
          "end_time": "2020-10-12T12:27:17.397647",
          "exception": false,
          "start_time": "2020-10-12T12:27:17.296578",
          "status": "completed"
        },
        "tags": [],
        "id": "OXbauv8CLsrX"
      },
      "outputs": [],
      "source": [
        "# save the vectors in a new matrix\n",
        "embedding_matrix = np.zeros((len(d2v_model.wv.index_to_key)+ 1, 20))\n",
        "\n",
        "for i, vec in enumerate(d2v_model.dv.vectors):\n",
        "    while i in vec <= 100:\n",
        "    #print(i)\n",
        "    #print(model.docvecs)\n",
        "          embedding_matrix[i]=vec\n",
        "    #print(vec)\n",
        "    #print(vec[i])"
      ]
    },
    {
      "cell_type": "markdown",
      "metadata": {
        "papermill": {
          "duration": 0.089396,
          "end_time": "2020-10-12T12:27:17.576795",
          "exception": false,
          "start_time": "2020-10-12T12:27:17.487399",
          "status": "completed"
        },
        "tags": [],
        "id": "r4Kcr3g3LsrX"
      },
      "source": [
        "# Measuring distance between two vectors (related to cosine similarity)"
      ]
    },
    {
      "cell_type": "code",
      "execution_count": 22,
      "metadata": {
        "execution": {
          "iopub.execute_input": "2020-10-12T12:27:17.761221Z",
          "iopub.status.busy": "2020-10-12T12:27:17.760471Z",
          "iopub.status.idle": "2020-10-12T12:27:17.771803Z",
          "shell.execute_reply": "2020-10-12T12:27:17.772439Z"
        },
        "papermill": {
          "duration": 0.106359,
          "end_time": "2020-10-12T12:27:17.772620",
          "exception": false,
          "start_time": "2020-10-12T12:27:17.666261",
          "status": "completed"
        },
        "tags": [],
        "colab": {
          "base_uri": "https://localhost:8080/"
        },
        "id": "KpLT1UA9LsrY",
        "outputId": "642e81e5-c3c3-40e5-9bee-9e72c2c9f260"
      },
      "outputs": [
        {
          "output_type": "execute_result",
          "data": {
            "text/plain": [
              "[('appliances', 0.87519371509552),\n",
              " ('facebook', 0.8738319873809814),\n",
              " ('practices', 0.865057110786438),\n",
              " ('solutions', 0.8635282516479492),\n",
              " ('gadgets', 0.860425591468811),\n",
              " ('reshaping', 0.8567269444465637),\n",
              " ('financial', 0.8553938865661621),\n",
              " ('gaining', 0.8449129462242126),\n",
              " ('consumption', 0.8404158353805542),\n",
              " ('promising', 0.837714433670044)]"
            ]
          },
          "metadata": {},
          "execution_count": 22
        }
      ],
      "source": [
        "d2v_model.wv.most_similar(positive=['energy-efficient'], topn=10)"
      ]
    },
    {
      "cell_type": "code",
      "execution_count": 23,
      "metadata": {
        "execution": {
          "iopub.execute_input": "2020-10-12T12:27:17.965398Z",
          "iopub.status.busy": "2020-10-12T12:27:17.964632Z",
          "iopub.status.idle": "2020-10-12T12:27:17.971853Z",
          "shell.execute_reply": "2020-10-12T12:27:17.971196Z"
        },
        "papermill": {
          "duration": 0.10422,
          "end_time": "2020-10-12T12:27:17.971999",
          "exception": false,
          "start_time": "2020-10-12T12:27:17.867779",
          "status": "completed"
        },
        "tags": [],
        "colab": {
          "base_uri": "https://localhost:8080/"
        },
        "id": "OdS6H-QSLsrY",
        "outputId": "0a2cd048-81d9-4051-87ec-07c50400558a"
      },
      "outputs": [
        {
          "output_type": "execute_result",
          "data": {
            "text/plain": [
              "[('awareness', 0.8959972858428955),\n",
              " ('issues', 0.8846880197525024),\n",
              " ('smartphone', 0.8846154808998108),\n",
              " ('use', 0.882526695728302),\n",
              " ('implications', 0.8818418979644775),\n",
              " ('affect', 0.8747193217277527),\n",
              " ('concerning', 0.874009370803833),\n",
              " ('continue', 0.8736481070518494),\n",
              " ('epansion', 0.8708701133728027),\n",
              " ('charging', 0.8692067861557007)]"
            ]
          },
          "metadata": {},
          "execution_count": 23
        }
      ],
      "source": [
        "d2v_model.wv.most_similar(positive=['investment'], topn=10)"
      ]
    },
    {
      "cell_type": "code",
      "execution_count": 24,
      "metadata": {
        "execution": {
          "iopub.execute_input": "2020-10-12T12:27:18.168986Z",
          "iopub.status.busy": "2020-10-12T12:27:18.168217Z",
          "iopub.status.idle": "2020-10-12T12:27:18.175299Z",
          "shell.execute_reply": "2020-10-12T12:27:18.174527Z"
        },
        "papermill": {
          "duration": 0.108079,
          "end_time": "2020-10-12T12:27:18.175427",
          "exception": false,
          "start_time": "2020-10-12T12:27:18.067348",
          "status": "completed"
        },
        "tags": [],
        "colab": {
          "base_uri": "https://localhost:8080/"
        },
        "id": "WakLt9NWLsrZ",
        "outputId": "10a7bd5a-ca50-4c00-951a-f53f198896bd"
      },
      "outputs": [
        {
          "output_type": "execute_result",
          "data": {
            "text/plain": [
              "[('priority', 0.7781924605369568),\n",
              " ('cloud', 0.7655738592147827),\n",
              " ('moving', 0.7560240626335144),\n",
              " ('mining', 0.7499487996101379),\n",
              " ('cryptocurrency', 0.7331640720367432),\n",
              " ('its', 0.6996006369590759),\n",
              " ('pressure', 0.6954761147499084),\n",
              " ('evaluation', 0.672150194644928),\n",
              " ('environmental', 0.6626198291778564),\n",
              " ('footprint', 0.6621782183647156)]"
            ]
          },
          "metadata": {},
          "execution_count": 24
        }
      ],
      "source": [
        "d2v_model.wv.most_similar(positive=['zero-waste'], topn=10)"
      ]
    },
    {
      "cell_type": "markdown",
      "metadata": {
        "papermill": {
          "duration": 0.091436,
          "end_time": "2020-10-12T12:27:18.361351",
          "exception": false,
          "start_time": "2020-10-12T12:27:18.269915",
          "status": "completed"
        },
        "tags": [],
        "id": "JvDv5ZfvLsrZ"
      },
      "source": [
        "Plot Similarity word in Doc2vec"
      ]
    },
    {
      "cell_type": "code",
      "execution_count": 25,
      "metadata": {
        "execution": {
          "iopub.execute_input": "2020-10-12T12:27:18.566535Z",
          "iopub.status.busy": "2020-10-12T12:27:18.563808Z",
          "iopub.status.idle": "2020-10-12T12:27:18.682597Z",
          "shell.execute_reply": "2020-10-12T12:27:18.681749Z"
        },
        "papermill": {
          "duration": 0.229098,
          "end_time": "2020-10-12T12:27:18.682727",
          "exception": false,
          "start_time": "2020-10-12T12:27:18.453629",
          "status": "completed"
        },
        "tags": [],
        "id": "OP4qmD6sLsrZ"
      },
      "outputs": [],
      "source": [
        "from sklearn.manifold import TSNE\n",
        "import matplotlib.pyplot as plt\n",
        "%matplotlib inline\n",
        "\n",
        "def tsne_plot(model):\n",
        "    \"Creates and TSNE model and plots it\"\n",
        "    labels = []\n",
        "    tokens = []\n",
        "\n",
        "    for word in d2v_model.wv.key_to_index:\n",
        "        tokens.append(model[word])\n",
        "        labels.append(word)\n",
        "\n",
        "    tsne_model = TSNE(perplexity=40, n_components=2, init='pca', n_iter=250, random_state=23)\n",
        "    new_values = tsne_model.fit_transform(tokens)\n",
        "\n",
        "    x = []\n",
        "    y = []\n",
        "    for value in new_values:\n",
        "        x.append(value[0])\n",
        "        y.append(value[1])\n",
        "\n",
        "    plt.figure(figsize=(16, 16))\n",
        "    for i in range(len(x)):\n",
        "        plt.scatter(x[i],y[i])\n",
        "        plt.annotate(labels[i],\n",
        "                     xy=(x[i], y[i]),\n",
        "                     xytext=(5, 2),\n",
        "                     textcoords='offset points',\n",
        "                     ha='right',\n",
        "                     va='bottom')\n",
        "    plt.show()"
      ]
    },
    {
      "cell_type": "code",
      "execution_count": 26,
      "metadata": {
        "execution": {
          "iopub.execute_input": "2020-10-12T12:27:18.906477Z",
          "iopub.status.busy": "2020-10-12T12:27:18.890965Z",
          "iopub.status.idle": "2020-10-12T12:41:07.304510Z",
          "shell.execute_reply": "2020-10-12T12:41:07.305281Z"
        },
        "papermill": {
          "duration": 828.530585,
          "end_time": "2020-10-12T12:41:07.305476",
          "exception": false,
          "start_time": "2020-10-12T12:27:18.774891",
          "status": "completed"
        },
        "tags": [],
        "id": "tMr4qoshLsra"
      },
      "outputs": [],
      "source": [
        "# tsne_plot(d2v_model)"
      ]
    },
    {
      "cell_type": "markdown",
      "metadata": {
        "papermill": {
          "duration": 0.121792,
          "end_time": "2020-10-12T12:41:07.554437",
          "exception": false,
          "start_time": "2020-10-12T12:41:07.432645",
          "status": "completed"
        },
        "tags": [],
        "id": "uZKnm0F1Lsrb"
      },
      "source": [
        "# Create the LSTM Model\n",
        "\n",
        "The parameter used here inspired by [3].\n",
        "\n"
      ]
    },
    {
      "cell_type": "code",
      "execution_count": 27,
      "metadata": {
        "execution": {
          "iopub.execute_input": "2020-10-12T12:41:07.812571Z",
          "iopub.status.busy": "2020-10-12T12:41:07.810122Z",
          "iopub.status.idle": "2020-10-12T12:41:09.303718Z",
          "shell.execute_reply": "2020-10-12T12:41:09.304591Z"
        },
        "papermill": {
          "duration": 1.627566,
          "end_time": "2020-10-12T12:41:09.304839",
          "exception": false,
          "start_time": "2020-10-12T12:41:07.677273",
          "status": "completed"
        },
        "tags": [],
        "colab": {
          "base_uri": "https://localhost:8080/"
        },
        "id": "MTOd7jZjLsrb",
        "outputId": "3a1c60be-003f-4a0e-a94a-36458c4ba3dc"
      },
      "outputs": [
        {
          "output_type": "stream",
          "name": "stdout",
          "text": [
            "Model: \"sequential\"\n",
            "_________________________________________________________________\n",
            " Layer (type)                Output Shape              Param #   \n",
            "=================================================================\n",
            " embedding (Embedding)       (None, 50, 20)            8140      \n",
            "                                                                 \n",
            " lstm (LSTM)                 (None, 50)                14200     \n",
            "                                                                 \n",
            " dense (Dense)               (None, 3)                 153       \n",
            "                                                                 \n",
            "=================================================================\n",
            "Total params: 22493 (87.86 KB)\n",
            "Trainable params: 22493 (87.86 KB)\n",
            "Non-trainable params: 0 (0.00 Byte)\n",
            "_________________________________________________________________\n"
          ]
        }
      ],
      "source": [
        "from keras.models import Sequential\n",
        "from keras.layers import LSTM, Dense, Embedding\n",
        "\n",
        "\n",
        "# init layer\n",
        "model = Sequential()\n",
        "\n",
        "# emmbed word vectors\n",
        "model.add(Embedding(len(d2v_model.wv.index_to_key)+1,20,input_length=X.shape[1],weights=[embedding_matrix],trainable=True))\n",
        "\n",
        "# learn the correlations\n",
        "def split_input(sequence):\n",
        "     return sequence[:-1], tf.reshape(sequence[1:], (-1,1))\n",
        "model.add(LSTM(50,return_sequences=False))\n",
        "model.add(Dense(3,activation=\"softmax\"))\n",
        "\n",
        "# output model skeleton\n",
        "model.summary()\n",
        "model.compile(optimizer=\"adam\",loss=\"binary_crossentropy\",metrics=['acc'])"
      ]
    },
    {
      "cell_type": "code",
      "execution_count": 28,
      "metadata": {
        "execution": {
          "iopub.execute_input": "2020-10-12T12:41:09.560246Z",
          "iopub.status.busy": "2020-10-12T12:41:09.559286Z",
          "iopub.status.idle": "2020-10-12T12:41:10.085335Z",
          "shell.execute_reply": "2020-10-12T12:41:10.084534Z"
        },
        "papermill": {
          "duration": 0.655789,
          "end_time": "2020-10-12T12:41:10.085483",
          "exception": false,
          "start_time": "2020-10-12T12:41:09.429694",
          "status": "completed"
        },
        "tags": [],
        "colab": {
          "base_uri": "https://localhost:8080/",
          "height": 369
        },
        "id": "gXL0-Rk3Lsrb",
        "outputId": "531664b1-0c8c-4dd8-e622-20ebf3859088"
      },
      "outputs": [
        {
          "output_type": "execute_result",
          "data": {
            "image/png": "[encoded data removed]",
            "text/plain": [
              "<IPython.core.display.Image object>"
            ]
          },
          "metadata": {},
          "execution_count": 28
        }
      ],
      "source": [
        "from keras.utils import plot_model\n",
        "plot_model(model, to_file='model.png')"
      ]
    },
    {
      "cell_type": "code",
      "execution_count": 29,
      "metadata": {
        "execution": {
          "iopub.execute_input": "2020-10-12T12:41:10.344650Z",
          "iopub.status.busy": "2020-10-12T12:41:10.343769Z",
          "iopub.status.idle": "2020-10-12T12:41:10.352385Z",
          "shell.execute_reply": "2020-10-12T12:41:10.351730Z"
        },
        "papermill": {
          "duration": 0.141525,
          "end_time": "2020-10-12T12:41:10.352514",
          "exception": false,
          "start_time": "2020-10-12T12:41:10.210989",
          "status": "completed"
        },
        "tags": [],
        "colab": {
          "base_uri": "https://localhost:8080/"
        },
        "id": "6jcacpZmLsrd",
        "outputId": "b1bc8d25-e479-4a69-e22f-7f891631fcdc"
      },
      "outputs": [
        {
          "output_type": "stream",
          "name": "stdout",
          "text": [
            "(153, 50) (153, 3)\n",
            "(28, 50) (28, 3)\n"
          ]
        }
      ],
      "source": [
        "Y = pd.get_dummies(df['sentiment']).values\n",
        "X_train, X_test, Y_train, Y_test = train_test_split(X,Y, test_size = 0.15, random_state = 42)\n",
        "print(X_train.shape,Y_train.shape)\n",
        "print(X_test.shape,Y_test.shape)"
      ]
    },
    {
      "cell_type": "code",
      "source": [
        "vocab_size = len(d2v_model.wv.index_to_key) + 1\n",
        "print(vocab_size)"
      ],
      "metadata": {
        "colab": {
          "base_uri": "https://localhost:8080/"
        },
        "id": "wdPQqx7SbPNR",
        "outputId": "1a323b60-daff-4f58-cc64-362c1d343298"
      },
      "execution_count": 30,
      "outputs": [
        {
          "output_type": "stream",
          "name": "stdout",
          "text": [
            "407\n"
          ]
        }
      ]
    },
    {
      "cell_type": "code",
      "execution_count": 58,
      "metadata": {
        "execution": {
          "iopub.execute_input": "2020-10-12T12:43:48.986718Z",
          "iopub.status.busy": "2020-10-12T12:43:48.985884Z",
          "iopub.status.idle": "2020-10-12T12:43:49.764517Z",
          "shell.execute_reply": "2020-10-12T12:43:49.763845Z"
        },
        "papermill": {
          "duration": 0.950111,
          "end_time": "2020-10-12T12:43:49.764671",
          "exception": false,
          "start_time": "2020-10-12T12:43:48.814560",
          "status": "completed"
        },
        "tags": [],
        "id": "FaZaaDNcLsrf"
      },
      "outputs": [],
      "source": [
        "# predict probabilities for test set\n",
        "yhat_probs = model.predict(X_test, verbose=0)\n",
        "\n",
        "# predict crisp classes for test set\n",
        "yhat_classes = model.predict(X_test, verbose=0).argmax(axis=1)\n",
        "\n",
        "# reduce to 1d array\n",
        "#yhat_probs = yhat_probs[:, 0]\n",
        "#yhat_classes = yhat_classes[:, 1]"
      ]
    },
    {
      "cell_type": "code",
      "execution_count": 33,
      "metadata": {
        "execution": {
          "iopub.execute_input": "2020-10-12T12:43:50.104353Z",
          "iopub.status.busy": "2020-10-12T12:43:50.103137Z",
          "iopub.status.idle": "2020-10-12T12:43:50.107313Z",
          "shell.execute_reply": "2020-10-12T12:43:50.107971Z"
        },
        "papermill": {
          "duration": 0.178295,
          "end_time": "2020-10-12T12:43:50.108187",
          "exception": false,
          "start_time": "2020-10-12T12:43:49.929892",
          "status": "completed"
        },
        "tags": [],
        "colab": {
          "base_uri": "https://localhost:8080/"
        },
        "id": "r2Pbn2PLLsrf",
        "outputId": "6d8cf25b-299e-4c9c-b36e-2c5266cc3e2b"
      },
      "outputs": [
        {
          "output_type": "execute_result",
          "data": {
            "text/plain": [
              "array([2, 0, 1, 2, 1, 2, 0, 2, 0, 0, 0, 1, 0, 1, 2, 0, 0, 1, 0, 0, 0, 1,\n",
              "       1, 0, 0, 1, 0, 0])"
            ]
          },
          "metadata": {},
          "execution_count": 33
        }
      ],
      "source": [
        "import numpy as np\n",
        "rounded_labels=np.argmax(Y_test, axis=1)\n",
        "rounded_labels"
      ]
    },
    {
      "cell_type": "code",
      "execution_count": 34,
      "metadata": {
        "execution": {
          "iopub.execute_input": "2020-10-12T12:43:50.462368Z",
          "iopub.status.busy": "2020-10-12T12:43:50.461233Z",
          "iopub.status.idle": "2020-10-12T12:43:50.472789Z",
          "shell.execute_reply": "2020-10-12T12:43:50.473661Z"
        },
        "papermill": {
          "duration": 0.186503,
          "end_time": "2020-10-12T12:43:50.473880",
          "exception": false,
          "start_time": "2020-10-12T12:43:50.287377",
          "status": "completed"
        },
        "tags": [],
        "colab": {
          "base_uri": "https://localhost:8080/"
        },
        "id": "K8rypXQQLsrg",
        "outputId": "baf3bc91-9494-4e75-9165-946223597664"
      },
      "outputs": [
        {
          "output_type": "execute_result",
          "data": {
            "text/plain": [
              "array([[15,  0,  0],\n",
              "       [ 8,  0,  0],\n",
              "       [ 5,  0,  0]])"
            ]
          },
          "metadata": {},
          "execution_count": 34
        }
      ],
      "source": [
        "from sklearn.metrics import confusion_matrix\n",
        "cm = confusion_matrix(rounded_labels, yhat_classes)\n",
        "cm"
      ]
    },
    {
      "cell_type": "code",
      "source": [
        "yhat_classes"
      ],
      "metadata": {
        "colab": {
          "base_uri": "https://localhost:8080/"
        },
        "id": "umjyyuP7QIZX",
        "outputId": "dd1ed9ac-5993-4b08-f45f-298b3d4401a5"
      },
      "execution_count": 35,
      "outputs": [
        {
          "output_type": "execute_result",
          "data": {
            "text/plain": [
              "array([0, 0, 0, 0, 0, 0, 0, 0, 0, 0, 0, 0, 0, 0, 0, 0, 0, 0, 0, 0, 0, 0,\n",
              "       0, 0, 0, 0, 0, 0])"
            ]
          },
          "metadata": {},
          "execution_count": 35
        }
      ]
    },
    {
      "cell_type": "code",
      "source": [
        "rounded_labels"
      ],
      "metadata": {
        "colab": {
          "base_uri": "https://localhost:8080/"
        },
        "id": "bD8v_iVtQGIx",
        "outputId": "1528e2df-0bf9-4775-8e54-4a8d42a81013"
      },
      "execution_count": 36,
      "outputs": [
        {
          "output_type": "execute_result",
          "data": {
            "text/plain": [
              "array([2, 0, 1, 2, 1, 2, 0, 2, 0, 0, 0, 1, 0, 1, 2, 0, 0, 1, 0, 0, 0, 1,\n",
              "       1, 0, 0, 1, 0, 0])"
            ]
          },
          "metadata": {},
          "execution_count": 36
        }
      ]
    },
    {
      "cell_type": "code",
      "execution_count": 37,
      "metadata": {
        "execution": {
          "iopub.execute_input": "2020-10-12T12:43:50.837934Z",
          "iopub.status.busy": "2020-10-12T12:43:50.837130Z",
          "iopub.status.idle": "2020-10-12T12:43:51.045528Z",
          "shell.execute_reply": "2020-10-12T12:43:51.046112Z"
        },
        "papermill": {
          "duration": 0.38367,
          "end_time": "2020-10-12T12:43:51.046279",
          "exception": false,
          "start_time": "2020-10-12T12:43:50.662609",
          "status": "completed"
        },
        "tags": [],
        "colab": {
          "base_uri": "https://localhost:8080/",
          "height": 487
        },
        "id": "nS-NO_c2Lsrg",
        "outputId": "10216b19-6142-4326-919f-77e0bb6ea3eb"
      },
      "outputs": [
        {
          "output_type": "display_data",
          "data": {
            "text/plain": [
              "<Figure size 500x500 with 2 Axes>"
            ],
            "image/png": "[encoded data removed]"
          },
          "metadata": {}
        }
      ],
      "source": [
        "# The confusion matrix\n",
        "from sklearn.metrics import confusion_matrix\n",
        "import seaborn as sns\n",
        "\n",
        "lstm_val = confusion_matrix(rounded_labels, yhat_classes)\n",
        "f, ax = plt.subplots(figsize=(5,5))\n",
        "sns.heatmap(lstm_val, annot=True, linewidth=0.7, linecolor='cyan', fmt='g', ax=ax, cmap=\"BuPu\")\n",
        "plt.title('LSTM Classification Confusion Matrix')\n",
        "plt.xlabel('Y predict')\n",
        "plt.ylabel('Y test')\n",
        "plt.show()"
      ]
    },
    {
      "cell_type": "markdown",
      "metadata": {
        "papermill": {
          "duration": 0.170884,
          "end_time": "2020-10-12T12:43:51.385992",
          "exception": false,
          "start_time": "2020-10-12T12:43:51.215108",
          "status": "completed"
        },
        "tags": [],
        "id": "v1vwK9HNLsrh"
      },
      "source": [
        "# Validation"
      ]
    },
    {
      "cell_type": "markdown",
      "metadata": {
        "papermill": {
          "duration": 0.16783,
          "end_time": "2020-10-12T12:43:52.141630",
          "exception": false,
          "start_time": "2020-10-12T12:43:51.973800",
          "status": "completed"
        },
        "tags": [],
        "id": "JyQSDozDLsri"
      },
      "source": [
        "**Save Model**\n"
      ]
    },
    {
      "cell_type": "code",
      "execution_count": 38,
      "metadata": {
        "execution": {
          "iopub.execute_input": "2020-10-12T12:43:52.493269Z",
          "iopub.status.busy": "2020-10-12T12:43:52.492488Z",
          "iopub.status.idle": "2020-10-12T12:43:52.516965Z",
          "shell.execute_reply": "2020-10-12T12:43:52.516112Z"
        },
        "papermill": {
          "duration": 0.206645,
          "end_time": "2020-10-12T12:43:52.517130",
          "exception": false,
          "start_time": "2020-10-12T12:43:52.310485",
          "status": "completed"
        },
        "tags": [],
        "colab": {
          "base_uri": "https://localhost:8080/"
        },
        "id": "uw8wwQwsLsri",
        "outputId": "9b6e6040-a8a0-4153-fdf3-b98deeebaf44"
      },
      "outputs": [
        {
          "output_type": "stream",
          "name": "stderr",
          "text": [
            "/usr/local/lib/python3.10/dist-packages/keras/src/engine/training.py:3103: UserWarning: You are saving your model as an HDF5 file via `model.save()`. This file format is considered legacy. We recommend using instead the native Keras format, e.g. `model.save('my_model.keras')`.\n",
            "  saving_api.save_model(\n"
          ]
        }
      ],
      "source": [
        "model.save('Mymodel.h5')"
      ]
    },
    {
      "cell_type": "markdown",
      "metadata": {
        "papermill": {
          "duration": 0.167501,
          "end_time": "2020-10-12T12:43:52.853834",
          "exception": false,
          "start_time": "2020-10-12T12:43:52.686333",
          "status": "completed"
        },
        "tags": [],
        "id": "T4-exOvlLsrk"
      },
      "source": [
        "**Test with new and different data set aside from the data to build the model.**\n",
        "\n",
        "note : sentiment  = {'positive': 0,'neutral': 1,'negative':2}"
      ]
    },
    {
      "cell_type": "code",
      "execution_count": 54,
      "metadata": {
        "execution": {
          "iopub.execute_input": "2020-10-12T12:43:54.775597Z",
          "iopub.status.busy": "2020-10-12T12:43:54.774486Z",
          "iopub.status.idle": "2020-10-12T12:43:54.818737Z",
          "shell.execute_reply": "2020-10-12T12:43:54.817952Z"
        },
        "papermill": {
          "duration": 0.222813,
          "end_time": "2020-10-12T12:43:54.818863",
          "exception": false,
          "start_time": "2020-10-12T12:43:54.596050",
          "status": "completed"
        },
        "tags": [],
        "colab": {
          "base_uri": "https://localhost:8080/"
        },
        "id": "r4Do0IFNLsrm",
        "outputId": "c5388bca-3e0a-4406-b787-794f5bf6d976"
      },
      "outputs": [
        {
          "output_type": "stream",
          "name": "stdout",
          "text": [
            "1/1 [==============================] - 0s 25ms/step\n",
            "[[0.33333334 0.33333334 0.33333334]] 0\n"
          ]
        }
      ],
      "source": [
        "message = ['Data centers powered by renewable energy sources are more sustainable']\n",
        "seq = tokenizer.texts_to_sequences(message)\n",
        "\n",
        "padded = pad_sequences(seq, maxlen=X.shape[1], dtype='int32', value=0)\n",
        "\n",
        "pred = model.predict(padded)\n",
        "\n",
        "labels = ['0','1','2']\n",
        "print(pred, labels[np.argmax(pred)])"
      ]
    },
    {
      "cell_type": "code",
      "source": [
        "print(\"The rating of the 'IDEA' is :\",pred*100)"
      ],
      "metadata": {
        "id": "XOQrKyx2eAh9",
        "colab": {
          "base_uri": "https://localhost:8080/"
        },
        "outputId": "efbd5c77-8e50-4ea0-98fe-a5aebfff6fb5"
      },
      "execution_count": 59,
      "outputs": [
        {
          "output_type": "stream",
          "name": "stdout",
          "text": [
            "The rating of the 'IDEA' is : [[33.333336 33.333336 33.333336]]\n"
          ]
        }
      ]
    }
  ],
  "metadata": {
    "kernelspec": {
      "display_name": "Python 3",
      "language": "python",
      "name": "python3"
    },
    "language_info": {
      "codemirror_mode": {
        "name": "ipython",
        "version": 3
      },
      "file_extension": ".py",
      "mimetype": "text/x-python",
      "name": "python",
      "nbconvert_exporter": "python",
      "pygments_lexer": "ipython3",
      "version": "3.7.6"
    },
    "papermill": {
      "duration": 1038.73911,
      "end_time": "2020-10-12T12:43:55.843833",
      "environment_variables": {},
      "exception": null,
      "input_path": "__notebook__.ipynb",
      "output_path": "__notebook__.ipynb",
      "parameters": {},
      "start_time": "2020-10-12T12:26:37.104723",
      "version": "2.1.0"
    },
    "colab": {
      "provenance": []
    }
  },
  "nbformat": 4,
  "nbformat_minor": 0
}